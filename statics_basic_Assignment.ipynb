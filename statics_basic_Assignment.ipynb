{
  "nbformat": 4,
  "nbformat_minor": 0,
  "metadata": {
    "colab": {
      "provenance": []
    },
    "kernelspec": {
      "name": "python3",
      "display_name": "Python 3"
    },
    "language_info": {
      "name": "python"
    }
  },
  "cells": [
    {
      "cell_type": "markdown",
      "source": [
        "# 1. What is statistics, and why is it important?\n",
        "\n"
      ],
      "metadata": {
        "id": "BpGMesegaK2O"
      }
    },
    {
      "cell_type": "markdown",
      "source": [
        "Statistics is the branch of mathematics that deals with collecting, organizing, analyzing, interpreting, and presenting data. It helps us make sense of large quantities of information by summarizing it in ways that are meaningful and actionable.\n",
        "\n",
        "Why Statistics Is Important:     \n",
        "* Informed Decision-Making: Governments, businesses, and individuals use statistics to make decisions based on evidence, not guesswork (e.g., economic policy, marketing strategies, or medical treatments).        \n",
        "* Understanding Patterns and Trends: Statistics allows us to identify patterns, trends, and relationships in data—such as how smoking is related to lung cancer rates.\n"
      ],
      "metadata": {
        "id": "bvRPM8pKcU6D"
      }
    },
    {
      "cell_type": "markdown",
      "source": [
        "# 2. What are the two main types of statistics?"
      ],
      "metadata": {
        "id": "eYq0NalZc3MY"
      }
    },
    {
      "cell_type": "markdown",
      "source": [
        "The two main types of statistics are:\n",
        "\n",
        "1. Descriptive Statistics\n",
        "Descriptive statistics involve methods for summarizing and organizing data. They help you understand what the data shows by providing:\n",
        "\n",
        "Measures of central tendency: Mean (average), median, mode\n",
        "\n",
        "Measures of dispersion: Range, variance, standard deviation\n",
        "\n",
        "Graphs and charts: Histograms, pie charts, bar graphs, etc.\n",
        "\n",
        "Example: A teacher calculates the average score of her class on a test.\n",
        "\n",
        "2. Inferential Statistics\n",
        "Inferential statistics involve making predictions or generalizations about a population based on a sample of data. It uses probability theory to draw conclusions and test hypotheses.\n",
        "\n",
        "Hypothesis testing\n",
        "\n",
        "Confidence intervals\n",
        "\n",
        "Regression analysis\n",
        "\n",
        "Correlation\n",
        "\n",
        "Example: A pollster surveys 1,000 people to estimate how the entire country will vote in an election.\n",
        "\n",
        "Would you like a visual comparison of the two types?"
      ],
      "metadata": {
        "id": "Sbtf89bddDyI"
      }
    },
    {
      "cell_type": "markdown",
      "source": [
        "# 3. What are descriptive statistics?\n"
      ],
      "metadata": {
        "id": "YlXRYE-XdStA"
      }
    },
    {
      "cell_type": "markdown",
      "source": [
        "Descriptive statistics are methods used to summarize, organize, and describe the main features of a dataset. They provide a way to simplify large amounts of data in a meaningful and understandable form, without making conclusions beyond the data itself."
      ],
      "metadata": {
        "id": "zrr4HxrWdwbL"
      }
    },
    {
      "cell_type": "markdown",
      "source": [
        "# 4. What is inferential statistics?*"
      ],
      "metadata": {
        "id": "gqrV5Medd3HU"
      }
    },
    {
      "cell_type": "markdown",
      "source": [
        "Inferential statistics is the branch of statistics that allows you to make predictions, conclusions, or generalizations about a larger population based on data collected from a sample of that population.\n",
        "\n",
        "Rather than just describing the data you have (like descriptive statistics), inferential statistics uses it to make broader claims and test hypotheses."
      ],
      "metadata": {
        "id": "XV7jpPSSf-RE"
      }
    },
    {
      "cell_type": "markdown",
      "source": [],
      "metadata": {
        "id": "MqItAAwKgjCV"
      }
    },
    {
      "cell_type": "markdown",
      "source": [
        "# 5. What are the different types of sampling methods?"
      ],
      "metadata": {
        "id": "9Zs3H4VTpcwr"
      }
    },
    {
      "cell_type": "markdown",
      "source": [
        "In statistics, sampling is the process of selecting a subset (called a sample) from a larger group (called the population) in order to make inferences or draw conclusions about the population as a whole.\n",
        "\n",
        "Since studying an entire population can be time-consuming, expensive, or impractical, sampling allows researchers to gather data more efficiently and still obtain meaningful insights—provided the sample is representative of the population."
      ],
      "metadata": {
        "id": "8zwph0G3wVTC"
      }
    },
    {
      "cell_type": "markdown",
      "source": [
        "# 6. What are the different types of sampling methods?"
      ],
      "metadata": {
        "id": "I8nxDFt8waDZ"
      }
    },
    {
      "cell_type": "markdown",
      "source": [
        "In statistics, sampling methods fall into two broad categories—probability sampling (every unit in the population has a known, non-zero chance of selection) and non-probability sampling (selection is based on subjective judgment or convenience). Below is a rundown of the main techniques in each category"
      ],
      "metadata": {
        "id": "QFxQnMj6wZ-v"
      }
    },
    {
      "cell_type": "markdown",
      "source": [
        "# 7. What is the difference between random and non-random sampling?"
      ],
      "metadata": {
        "id": "Rf4BJEY6wZ6w"
      }
    },
    {
      "cell_type": "markdown",
      "source": [
        "The difference between random and non-random sampling lies in how the elements are selected from the population—and whether each member has a known and equal chance of being included.\n",
        "\n",
        "* Random Sampling (Probability Sampling)\n",
        "\n",
        "Definition: Every member of the population has a known, non-zero (often equal) probability of being selected.\n",
        "\n",
        "Selection Process: Based on chance or a random process (e.g., lottery, random number generator).\n",
        "\n",
        "Goal: To create a representative sample that allows for unbiased generalizations about the population.\n",
        "\n",
        "* Non-Random Sampling (Non-Probability Sampling)\n",
        "\n",
        "Definition: Not all members of the population have a known or equal chance of being selected.\n",
        "\n",
        "Selection Process: Based on factors like convenience, judgment, or quotas.\n",
        "\n",
        "Goal: Often used for exploratory research, case studies, or when probability sampling isn't practical."
      ],
      "metadata": {
        "id": "Pss-XSemwZ22"
      }
    },
    {
      "cell_type": "markdown",
      "source": [
        "# 8.  Define and give examples of qualitative and quantitative data?"
      ],
      "metadata": {
        "id": "GO_i3AyhwZx8"
      }
    },
    {
      "cell_type": "markdown",
      "source": [
        "Definition and Examples of Qualitative and Quantitative Data\n",
        "* Qualitative Data\n",
        "Definition:\n",
        "Qualitative data describes qualities or characteristics. It is non-numerical and often collected using observations, interviews, or open-ended surveys.\n",
        "\n",
        "Key Features:\n",
        "\n",
        "Descriptive\n",
        "\n",
        "Categorized by traits or labels\n",
        "\n",
        "Cannot be measured in numbers (but can sometimes be coded later)\n",
        "\n",
        "* Quantitative Data\n",
        "Definition:\n",
        "Quantitative data represents numerical values that can be measured or counted. It can be used in mathematical calculations and statistical analysis.\n",
        "\n",
        "Key Features:\n",
        "\n",
        "Numeric\n",
        "\n",
        "Objective and measurable\n",
        "\n",
        "Allows for mathematical operations (e.g., average, range)\n"
      ],
      "metadata": {
        "id": "KZgOdpz6wZqW"
      }
    },
    {
      "cell_type": "markdown",
      "source": [
        "# 9. What are the different types of data in statistics?"
      ],
      "metadata": {
        "id": "QXi_dxB1wZgq"
      }
    },
    {
      "cell_type": "markdown",
      "source": [
        "In statistics, data can be categorized into four main types based on the level of measurement and the nature of the values. These types help determine what statistical methods are appropriate for analysis.\n",
        "\n",
        "1. Nominal Data (Qualitative)\n",
        "Definition: Categorical data without any natural order or ranking.\n",
        "\n",
        "\n",
        " 2. Ordinal Data (Qualitative)\n",
        "Definition: Categorical data with a meaningful order, but no fixed interval between value.\n",
        "\n",
        " 3. Interval Data (Quantitative)\n",
        "Definition: Numeric data with equal intervals between values, but no true zero point.\n",
        "\n",
        " 4. Ratio Data (Quantitative)\n",
        "Definition: Numeric data with a true zero point, allowing for all arithmetic operations."
      ],
      "metadata": {
        "id": "gssR9_RJ3dYS"
      }
    },
    {
      "cell_type": "markdown",
      "source": [
        "# 10. Explain nominal, ordinal, interval, and ratio levels of measurement?"
      ],
      "metadata": {
        "id": "45uBTi6s4YU5"
      }
    },
    {
      "cell_type": "markdown",
      "source": [
        "The levels of measurement—nominal, ordinal, interval, and ratio—describe how data values relate to each other and what kinds of statistical operations can be performed on them. This classification is foundational in statistics because it determines what kind of analysis is appropriate.\n",
        "\n",
        " 1. Nominal Level\n",
        "Definition: Data that consist of names, labels, or categories. There's no natural order or ranking among categories.\n",
        "\n",
        " 2. Ordinal Level\n",
        "Definition: Data that can be ordered or ranked, but the differences between values are not consistent or meaningful.\n",
        "\n",
        " 3. Interval Level\n",
        "Definition: Numeric data where differences between values are meaningful and equal, but there is no true zero.\n",
        "\n",
        " 4. Ratio Level\n",
        "Definition: Numeric data with all the features of interval data plus a true, meaningful zero point—which allows for ratios."
      ],
      "metadata": {
        "id": "MhJWO3m04YOy"
      }
    },
    {
      "cell_type": "markdown",
      "source": [
        "# 11. What is the measure of central tendency?"
      ],
      "metadata": {
        "id": "caq6aHUr4YJj"
      }
    },
    {
      "cell_type": "markdown",
      "source": [
        "The measure of central tendency is a statistical value that identifies the center point or typical value of a dataset. It gives you an idea of where most values in a distribution lie—essentially summarizing a large set of data with a single representative number."
      ],
      "metadata": {
        "id": "7MBlQ5vz4YEj"
      }
    },
    {
      "cell_type": "markdown",
      "source": [
        "# 12. Define mean, median, and mode."
      ],
      "metadata": {
        "id": "8k_sxV-w4X_s"
      }
    },
    {
      "cell_type": "markdown",
      "source": [
        "Certainly! Here's a clear definition of mean, median, and mode, which are the three main measures of central tendency in statistics:\n",
        "\n",
        "* Mean (Arithmetic Average)\n",
        "Definition:\n",
        "The mean is calculated by adding all the values in a dataset and dividing by the number of values.\n",
        "\n",
        "* Median\n",
        "Definition:\n",
        "The median is the middle value in an ordered dataset. If there's an even number of values, it's the average of the two middle values.\n",
        "\n",
        "* Mode\n",
        "Definition:\n",
        "The mode is the value that appears most frequently in a dataset. A dataset can have:\n",
        "\n",
        "One mode (unimodal),\n",
        "\n",
        "More than one mode (bimodal or multimodal),\n",
        "\n",
        "No mode (if all values are unique).\n",
        "\n",
        "\n"
      ],
      "metadata": {
        "id": "BKD3OQck4X5S"
      }
    },
    {
      "cell_type": "markdown",
      "source": [
        "# 13. What is the significance of the measure of central tendency?"
      ],
      "metadata": {
        "id": "FPI_EIKq8DJD"
      }
    },
    {
      "cell_type": "markdown",
      "source": [
        "The measure of central tendency is significant in statistics because it provides a single summary value that represents the center or typical value of a dataset. It helps simplify complex data, making it easier to understand and interpret."
      ],
      "metadata": {
        "id": "V9AfIzc28DAw"
      }
    },
    {
      "cell_type": "markdown",
      "source": [
        "# 14. What is variance, and how is it calculated?"
      ],
      "metadata": {
        "id": "fDqfht4l8C7C"
      }
    },
    {
      "cell_type": "markdown",
      "source": [
        "Variance is a statistical measure that tells you how much the values in a dataset spread out from the mean (average). It shows the degree of variability or dispersion in the data.\n",
        "\n",
        "High variance → data points are spread out widely from the mean\n",
        "\n",
        "Low variance → data points are clustered closely around the mean\n",
        "\n"
      ],
      "metadata": {
        "id": "t0jTKmp38C1W"
      }
    },
    {
      "cell_type": "markdown",
      "source": [],
      "metadata": {
        "id": "37mob7d38Cvx"
      }
    },
    {
      "cell_type": "markdown",
      "source": [
        "# 15. What is standard deviation, and why is it important?"
      ],
      "metadata": {
        "id": "23iNaZqYAplk"
      }
    },
    {
      "cell_type": "markdown",
      "source": [
        "Standard deviation is a measure of how spread out or dispersed the values in a dataset are relative to the mean (average). It tells you how much the data varies, on average, from the mean.\n",
        "\n",
        "Why Is It Important?\n",
        "\n",
        "1. Measures Data Consistency\n",
        "Helps assess how reliable or predictable the data is.\n",
        "\n",
        "2. Used in Risk Analysis\n",
        "In finance, a higher SD in returns = higher investment risk.\n",
        "\n",
        "3. Essential for Statistical Inference\n",
        "Used in calculating confidence intervals, Z-scores, and hypothesis testing.\n",
        "\n",
        "Standardized Comparisons\n",
        "Lets you compare variability between different datasets, even if their units or means differ."
      ],
      "metadata": {
        "id": "4_xL5_NvApgd"
      }
    },
    {
      "cell_type": "markdown",
      "source": [
        "# 16. Define and explain the term range in statistics?"
      ],
      "metadata": {
        "id": "vTKiDxzuApa2"
      }
    },
    {
      "cell_type": "markdown",
      "source": [
        "Definition of Range in Statistics:\n",
        "The range is the simplest measure of dispersion in a dataset. It shows the difference between the highest and lowest values, indicating how spread out the data is.\n",
        "\n",
        "* Formula for Range = Maximum value−Minimum value\n",
        "\n",
        "Why Is Range Important?\n",
        "\n",
        "1. Gives a fast idea of how wide the data is spread.\n",
        "\n",
        "2. Useful for small datasets and initial analysis.\n",
        "\n",
        "3. A very large range may indicate extreme val"
      ],
      "metadata": {
        "id": "jEVqJbctCKuj"
      }
    },
    {
      "cell_type": "markdown",
      "source": [
        "# 17. What is the difference between variance and standard deviation?"
      ],
      "metadata": {
        "id": "63pT0RXrCKpp"
      }
    },
    {
      "cell_type": "markdown",
      "source": [
        " Difference Between Variance and Standard deviation.\n",
        "\n",
        "1. Variance and standard deviation are both measures of how spread out the values in a dataset are, but they express this spread differently. Variance measures the average of the squared differences between each data point and the mean. It gives you a mathematical idea of how data is distributed around the average, but because it squares those differences, the units of variance are not the same as the original data—this can make it less intuitive to interpret.\n",
        "\n",
        "2. In contrast, standard deviation is the square root of the variance. This step brings the units back to the same as the original data, which makes standard deviation easier to understand and more commonly used in practice. For example, if your data is in dollars, variance is in dollars squared, while standard deviation is in dollars again—making it more meaningful when discussing real-world values."
      ],
      "metadata": {
        "id": "ZZSuxWeyCKk2"
      }
    },
    {
      "cell_type": "markdown",
      "source": [
        "# 18. What is skewness in a dataset?"
      ],
      "metadata": {
        "id": "YADAIgywCKg1"
      }
    },
    {
      "cell_type": "markdown",
      "source": [
        "Skewness is a statistical measure that describes the asymmetry or lack of symmetry in the distribution of data values around the mean.\n",
        "\n",
        "In a perfectly symmetrical distribution, like a normal distribution, the left and right sides mirror each other, and skewness is zero. But when data values are unevenly distributed, skewness indicates which direction and how strongly the data is \"pulled.\"\n",
        "\n"
      ],
      "metadata": {
        "id": "41TtPU36CKY6"
      }
    },
    {
      "cell_type": "markdown",
      "source": [
        "# 19. What does it mean if a dataset is positively or negatively skewed?"
      ],
      "metadata": {
        "id": "W8zFS5MvCKVB"
      }
    },
    {
      "cell_type": "markdown",
      "source": [
        "When a dataset is positively skewed, also known as right-skewed, it means that the majority of the data values are concentrated on the lower end, while a few unusually large values stretch the tail of the distribution to the right. In this case, the mean is greater than the median, because the higher values pull the average upward. A common real-world example of a positively skewed distribution is income—most people earn within a certain range, but a few high earners can significantly increase the mean.\n",
        "\n",
        "Conversely, a negatively skewed or left-skewed dataset has most values concentrated on the higher end, with a few extremely low values extending the tail to the left. Here, the mean is less than the median, as those low outliers drag the average downward. An example of negative skewness could be retirement age, where most individuals retire at a typical age, but a few retire much earlier, skewing the data.\n",
        "\n",
        "Understanding whether a dataset is positively or negatively skewed is important because it affects the interpretation of measures like the mean and median, and can influence the choice of statistical methods, especially those that assume a normal (symmetrical) distribution."
      ],
      "metadata": {
        "id": "R7Z8sCiSFm8Y"
      }
    },
    {
      "cell_type": "markdown",
      "source": [
        "# 20. Define and explain kurtosis."
      ],
      "metadata": {
        "id": "GRJL1mmAFmxX"
      }
    },
    {
      "cell_type": "markdown",
      "source": [
        "Kurtosis is a statistical measure that describes the \"tailedness\" or peakedness of a probability distribution. In simpler terms, it tells us how concentrated the data is around the mean and how heavy or light the tails of the distribution are compared to a normal distribution.\n",
        "\n"
      ],
      "metadata": {
        "id": "1HvFBGXqFmm9"
      }
    },
    {
      "cell_type": "markdown",
      "source": [
        "#21. What is the purpose of covariance?"
      ],
      "metadata": {
        "id": "K84aI0xnFmcc"
      }
    },
    {
      "cell_type": "markdown",
      "source": [
        "Covariance is a statistical measure that indicates the direction of the relationship between two random variables. It tells us whether the variables tend to increase or decrease together (i.e., whether they have a positive or negative relationship), and by how much."
      ],
      "metadata": {
        "id": "bc5Pz-QdFmRA"
      }
    },
    {
      "cell_type": "markdown",
      "source": [
        "#22. What does correlation measure in statistics?"
      ],
      "metadata": {
        "id": "CaTgOc2TGZeA"
      }
    },
    {
      "cell_type": "markdown",
      "source": [
        "Correlation in statistics measures the strength and direction of a linear relationship between two variables. It tells you whether two variables tend to change in a consistent way and, if so, whether they increase or decrease together."
      ],
      "metadata": {
        "id": "horcevtHGZZl"
      }
    },
    {
      "cell_type": "markdown",
      "source": [
        "#23. What is the difference between covariance and correlation?"
      ],
      "metadata": {
        "id": "v5n5IHd_GZVV"
      }
    },
    {
      "cell_type": "markdown",
      "source": [
        "Covariance and correlation both measure the relationship between two variables, but they differ in interpretation and how they are scaled. Covariance indicates the direction of the relationship between variables—whether they increase or decrease together—by calculating the average of the product of their deviations from their means. However, covariance is affected by the units of the variables, meaning its value depends on the scale of the data, making it harder to interpret. For example, if one variable is measured in dollars and another in years, the covariance will be in units of dollars × years, which doesn't offer a clear understanding of the relationship."
      ],
      "metadata": {
        "id": "mEQifralGZQ-"
      }
    },
    {
      "cell_type": "markdown",
      "source": [
        "#24. What are some real-world applications of statistics?"
      ],
      "metadata": {
        "id": "_0gHkIXdGZNJ"
      }
    },
    {
      "cell_type": "markdown",
      "source": [
        "Statistics are foundational in decision-making across various fields, from improving business strategies to enhancing healthcare outcomes, shaping public policies, and even understanding complex environmental changes. By analyzing data and identifying patterns, statistics provide valuable insights that help individuals and organizations make informed, evidence-based decisions."
      ],
      "metadata": {
        "id": "j3OutG8WGZJR"
      }
    },
    {
      "cell_type": "markdown",
      "source": [
        "# PRACTICAL QUESTIONS"
      ],
      "metadata": {
        "id": "elVj364fGZFo"
      }
    },
    {
      "cell_type": "markdown",
      "source": [
        "#1.  How do you calculate the mean, median, and mode of a dataset?"
      ],
      "metadata": {
        "id": "F59O8VRuGY8j"
      }
    },
    {
      "cell_type": "markdown",
      "source": [
        "#MEAN(average)\n",
        "import numpy as np\n",
        "\n",
        "data = [1, 2, 3, 4, 5]\n",
        "mean = np.mean(data)\n",
        "print(f\"The mean is: {mean}\")"
      ],
      "metadata": {
        "id": "TxbrIs22GY4E"
      }
    },
    {
      "cell_type": "markdown",
      "source": [
        "#2. Write a Python program to compute the variance and standard deviation of a dataset."
      ],
      "metadata": {
        "id": "RlzcPRZ8Q116"
      }
    },
    {
      "cell_type": "code",
      "source": [
        "#MEDIAN\n",
        "import numpy as np\n",
        "\n",
        "data = [1, 2, 3, 4, 5]\n",
        "median = np.median(data)\n",
        "print(f\"The median is: {median}\")\n",
        "\n",
        "data = [1, 2, 3, 4]\n",
        "median = np.median(data)\n",
        "print(f\"The median is: {median}\")\n",
        ""
      ],
      "metadata": {
        "colab": {
          "base_uri": "https://localhost:8080/"
        },
        "id": "JcMai8LuRHX3",
        "outputId": "448da381-dc61-489a-e199-e302ea54ed73"
      },
      "execution_count": 1,
      "outputs": [
        {
          "output_type": "stream",
          "name": "stdout",
          "text": [
            "The median is: 3.0\n",
            "The median is: 2.5\n"
          ]
        }
      ]
    },
    {
      "cell_type": "markdown",
      "source": [
        "#3. Create a dataset and classify it into nominal, ordinal, interval, and ratio types."
      ],
      "metadata": {
        "id": "4zY_JmfTRZdP"
      }
    },
    {
      "cell_type": "code",
      "source": [
        "#MODE\n",
        "from scipy import stats\n",
        "\n",
        "data = [1, 2, 2, 3, 3, 3, 4, 5]\n",
        "mode = stats.mode(data)\n",
        "print(f\"The mode is: {mode}\")"
      ],
      "metadata": {
        "colab": {
          "base_uri": "https://localhost:8080/"
        },
        "id": "IZDS3jFaRfXn",
        "outputId": "65a50818-fcd0-43ad-8cca-d8b3282ecfdb"
      },
      "execution_count": 2,
      "outputs": [
        {
          "output_type": "stream",
          "name": "stdout",
          "text": [
            "The mode is: ModeResult(mode=np.int64(3), count=np.int64(3))\n"
          ]
        }
      ]
    },
    {
      "cell_type": "markdown",
      "source": [
        "#4. Implement sampling techniques like random sampling and stratified sampling."
      ],
      "metadata": {
        "id": "74-maJ_uRnBf"
      }
    },
    {
      "cell_type": "code",
      "source": [
        "#2- Write a Python program to compute the variance and standard deviation of a dataset\n",
        "import math\n",
        "\n",
        "def calculate_mean(data):\n",
        "    \"\"\"Calculates the mean of a list of numbers.\"\"\"\n",
        "    return sum(data) / len(data)\n",
        "\n",
        "def calculate_variance(data, mean):\n",
        "  \"\"\"Calculates the variance of a list of numbers.\"\"\"\n",
        "  return sum([(x - mean)**2 for x in data]) / (len(data) - 1)\n",
        "\n",
        "def calculate_std_dev(variance):\n",
        "    \"\"\"Calculates the standard deviation from the variance.\"\"\"\n",
        "    return math.sqrt(variance)\n",
        "\n",
        "if __name__ == \"__main__\":\n",
        "    dataset = [10, 12, 23, 23, 16, 23, 21, 16]\n",
        "\n",
        "    mean = calculate_mean(dataset)\n",
        "    variance = calculate_variance(dataset, mean)\n",
        "    std_dev = calculate_std_dev(variance)\n",
        "\n",
        "    print(f\"Dataset: {dataset}\")\n",
        "    print(f\"Mean: {mean}\")\n",
        "    print(f\"Variance: {variance}\")\n",
        "    print(f\"Standard Deviation: {std_dev}\")"
      ],
      "metadata": {
        "colab": {
          "base_uri": "https://localhost:8080/"
        },
        "id": "BGrdca_6RvqM",
        "outputId": "755e1293-cd96-4548-d3cf-1964a54c2211"
      },
      "execution_count": 3,
      "outputs": [
        {
          "output_type": "stream",
          "name": "stdout",
          "text": [
            "Dataset: [10, 12, 23, 23, 16, 23, 21, 16]\n",
            "Mean: 18.0\n",
            "Variance: 27.428571428571427\n",
            "Standard Deviation: 5.237229365663817\n"
          ]
        }
      ]
    },
    {
      "cell_type": "markdown",
      "source": [
        "#5. Write a Python function to calculate the range of a dataset."
      ],
      "metadata": {
        "id": "Zis2xGlcR2pv"
      }
    },
    {
      "cell_type": "code",
      "source": [
        "#3-Create a dataset and classify it into nominal, ordinal, interval, and ratio types?\n",
        "import pandas as pd\n",
        "\n",
        "# Sample data\n",
        "data = {\n",
        "    'Name': ['SHINY', 'YASH', 'SHUBHAM', 'BHARAT'],\n",
        "    'Gender': ['Female', 'Male', 'Male', 'Male'],\n",
        "    'Age': [25, 30, 22, 28],\n",
        "    'Education': ['High School', 'Bachelor', 'Master', 'PhD'],\n",
        "    'Income': [50000, 75000, 60000, 85000],\n",
        "    'Satisfaction': ['Very Satisfied', 'Satisfied', 'Neutral', 'Dissatisfied'],\n",
        "    'Temperature': [25.5, 30.2, 22.8, 27.9]\n",
        "}\n",
        "\n",
        "# Create a Pandas DataFrame\n",
        "df = pd.DataFrame(data)\n",
        "print(df)"
      ],
      "metadata": {
        "colab": {
          "base_uri": "https://localhost:8080/"
        },
        "id": "xrKuCAW7R82Y",
        "outputId": "29a23192-040e-46a4-c453-3aefcdea2d47"
      },
      "execution_count": 4,
      "outputs": [
        {
          "output_type": "stream",
          "name": "stdout",
          "text": [
            "      Name  Gender  Age    Education  Income    Satisfaction  Temperature\n",
            "0    SHINY  Female   25  High School   50000  Very Satisfied         25.5\n",
            "1     YASH    Male   30     Bachelor   75000       Satisfied         30.2\n",
            "2  SHUBHAM    Male   22       Master   60000         Neutral         22.8\n",
            "3   BHARAT    Male   28          PhD   85000    Dissatisfied         27.9\n"
          ]
        }
      ]
    },
    {
      "cell_type": "markdown",
      "source": [
        "#6. Create a dataset and plot its histogram to visualize skewness."
      ],
      "metadata": {
        "id": "GNg9neamSC7o"
      }
    },
    {
      "cell_type": "code",
      "source": [
        "# Classify data types\n",
        "print(\"\\nData Type Classification:\")\n",
        "print(\"----------------------------\")\n",
        "\n",
        "# Nominal\n",
        "print(\"Nominal:\")\n",
        "print(df['Name'].dtype)\n",
        "print(df['Gender'].dtype)\n",
        "print(\"----------------------------\")\n",
        "\n",
        "# Ordinal\n",
        "print(\"Ordinal:\")\n",
        "print(df['Education'].dtype)\n",
        "print(df['Satisfaction'].dtype)\n",
        "print(\"----------------------------\")\n",
        "\n",
        "# Interval\n",
        "print(\"Interval:\")\n",
        "print(df['Temperature'].dtype)\n",
        "print(\"----------------------------\")\n",
        "\n",
        "# Ratio\n",
        "print(\"Ratio:\")\n",
        "print(df['Age'].dtype)\n",
        "print(df['Income'].dtype)\n",
        "print(\"----------------------------\")"
      ],
      "metadata": {
        "colab": {
          "base_uri": "https://localhost:8080/"
        },
        "id": "20O4_sLiSNxQ",
        "outputId": "d062f994-4bb3-4cce-f320-419323c743b8"
      },
      "execution_count": 5,
      "outputs": [
        {
          "output_type": "stream",
          "name": "stdout",
          "text": [
            "\n",
            "Data Type Classification:\n",
            "----------------------------\n",
            "Nominal:\n",
            "object\n",
            "object\n",
            "----------------------------\n",
            "Ordinal:\n",
            "object\n",
            "object\n",
            "----------------------------\n",
            "Interval:\n",
            "float64\n",
            "----------------------------\n",
            "Ratio:\n",
            "int64\n",
            "int64\n",
            "----------------------------\n"
          ]
        }
      ]
    },
    {
      "cell_type": "markdown",
      "source": [
        "#7. Calculate skewness and kurtosis of a dataset using Python libraries."
      ],
      "metadata": {
        "id": "DVbYc4nESjMX"
      }
    },
    {
      "cell_type": "code",
      "source": [
        "#4- Implement sampling techniques like random sampling and stratified sampling?\n",
        "import pandas as pd\n",
        "import numpy as np\n",
        "import random\n",
        "\n",
        "# Sample Data (Replace with your actual data)\n",
        "data = {'Feature1': np.random.rand(100),\n",
        "        'Feature2': np.random.rand(100),\n",
        "        'Category': np.random.choice(['A', 'B', 'C'], size=100)}\n",
        "df = pd.DataFrame(data)\n",
        "\n",
        "# 1. Simple Random Sampling\n",
        "def simple_random_sampling(df, sample_size):\n",
        "    return df.sample(n=sample_size, random_state=42) #Using random_state for reproducibility\n",
        "\n",
        "# 2. Stratified Sampling\n",
        "def stratified_sampling(df, strata_column, sample_size):\n",
        "    # Calculate sample size per strata\n",
        "    group_sizes = df[strata_column].value_counts()\n",
        "    sample_size_per_group = {}\n",
        "    total_sample_size = 0\n",
        "    for group in group_sizes.index:\n",
        "        sample_size_per_group[group] = int((group_sizes[group] / df.shape[0]) * sample_size)\n",
        "        total_sample_size += sample_size_per_group[group]\n",
        "    if total_sample_size < sample_size: # Adjust if the total samples size is less than desired\n",
        "        remainder = sample_size - total_sample_size\n",
        "        for group in group_sizes.index:\n",
        "            if remainder > 0:\n",
        "                sample_size_per_group[group] += 1\n",
        "                remainder -= 1\n",
        "\n",
        "    #Sample each strata\n",
        "    stratified_sample = pd.DataFrame()\n",
        "    for group in group_sizes.index:\n",
        "        stratified_sample = pd.concat([stratified_sample, df[df[strata_column] == group].sample(n=sample_size_per_group[group], random_state=42)])\n",
        "    return stratified_sample\n",
        "\n",
        "# Example Usage:\n",
        "sample_size = 25\n",
        "random_sample = simple_random_sampling(df, sample_size)\n",
        "stratified_sample = stratified_sampling(df, 'Category', sample_size)\n",
        "\n",
        "print(\"Random Sample:\")\n",
        "print(random_sample)\n",
        "\n",
        "print(\"\\nStratified Sample:\")\n",
        "print(stratified_sample)"
      ],
      "metadata": {
        "colab": {
          "base_uri": "https://localhost:8080/"
        },
        "id": "UNrd_1RBSt9M",
        "outputId": "36d917ba-1d59-4b20-edd2-70c602ace302"
      },
      "execution_count": 6,
      "outputs": [
        {
          "output_type": "stream",
          "name": "stdout",
          "text": [
            "Random Sample:\n",
            "    Feature1  Feature2 Category\n",
            "83  0.187533  0.343828        C\n",
            "53  0.978548  0.050137        A\n",
            "70  0.878813  0.786158        C\n",
            "45  0.448027  0.985023        C\n",
            "44  0.448027  0.573128        B\n",
            "39  0.794631  0.759846        A\n",
            "22  0.289166  0.861511        C\n",
            "80  0.216320  0.114156        C\n",
            "10  0.118747  0.481918        A\n",
            "0   0.767230  0.203582        A\n",
            "18  0.087791  0.805837        C\n",
            "30  0.649920  0.013802        A\n",
            "73  0.074396  0.718734        A\n",
            "33  0.849760  0.932009        B\n",
            "90  0.559794  0.023098        A\n",
            "4   0.685564  0.076902        C\n",
            "76  0.648927  0.445833        B\n",
            "77  0.417419  0.451048        B\n",
            "12  0.976802  0.537023        B\n",
            "31  0.939110  0.611698        B\n",
            "55  0.737862  0.743536        C\n",
            "88  0.993991  0.565631        C\n",
            "26  0.578162  0.544004        C\n",
            "42  0.902511  0.437185        C\n",
            "69  0.914638  0.519993        A\n",
            "\n",
            "Stratified Sample:\n",
            "    Feature1  Feature2 Category\n",
            "98  0.896349  0.291711        A\n",
            "37  0.415424  0.709543        A\n",
            "75  0.764691  0.772393        A\n",
            "87  0.787618  0.073433        A\n",
            "53  0.978548  0.050137        A\n",
            "90  0.559794  0.023098        A\n",
            "66  0.970576  0.078445        A\n",
            "35  0.341774  0.208943        A\n",
            "24  0.412512  0.179890        A\n",
            "57  0.035297  0.392075        A\n",
            "70  0.878813  0.786158        C\n",
            "43  0.567652  0.907762        C\n",
            "65  0.863191  0.157974        C\n",
            "58  0.005403  0.534726        C\n",
            "47  0.314622  0.882667        C\n",
            "79  0.310158  0.079508        C\n",
            "55  0.737862  0.743536        C\n",
            "42  0.902511  0.437185        C\n",
            "96  0.741035  0.853231        B\n",
            "48  0.879215  0.980073        B\n",
            "38  0.735353  0.835430        B\n",
            "82  0.648567  0.438930        B\n",
            "28  0.215955  0.598305        B\n",
            "31  0.939110  0.611698        B\n",
            "77  0.417419  0.451048        B\n"
          ]
        }
      ]
    },
    {
      "cell_type": "markdown",
      "source": [
        "#8. Calculate skewness and kurtosis of a dataset using Python libraries."
      ],
      "metadata": {
        "id": "V5Q2i6gKTl6h"
      }
    },
    {
      "cell_type": "code",
      "source": [
        "#5- Write a Python function to calculate the range of a dataset\n",
        "def calculate_range(data):\n",
        "    \"\"\"\n",
        "    Calculates the range of a dataset.\n",
        "\n",
        "    Args:\n",
        "        data: A list or tuple of numerical values.\n",
        "\n",
        "    Returns:\n",
        "        The range of the dataset, which is the difference between the maximum and minimum values.\n",
        "        Returns None if the input data is empty or not a list/tuple.\n",
        "    \"\"\"\n",
        "    if not isinstance(data, (list, tuple)) or not data:\n",
        "        return None\n",
        "\n",
        "    return max(data) - min(data)"
      ],
      "metadata": {
        "id": "Jp6UaWKMTr1Y"
      },
      "execution_count": 8,
      "outputs": []
    },
    {
      "cell_type": "markdown",
      "source": [
        "#9.  Generate a dataset and demonstrate positive and negative skewness."
      ],
      "metadata": {
        "id": "88YXBotJT6eG"
      }
    },
    {
      "cell_type": "code",
      "source": [
        "data = [10, 2, 5, 8, 1, 9]\n",
        "range_value = calculate_range(data)\n",
        "print(f\"The range of the dataset is: {range_value}\")"
      ],
      "metadata": {
        "colab": {
          "base_uri": "https://localhost:8080/"
        },
        "id": "dUfRujDNT-MV",
        "outputId": "156a0ad2-02d3-4215-f353-a9ab8db22ff7"
      },
      "execution_count": 9,
      "outputs": [
        {
          "output_type": "stream",
          "name": "stdout",
          "text": [
            "The range of the dataset is: 9\n"
          ]
        }
      ]
    },
    {
      "cell_type": "markdown",
      "source": [
        "#10. Write a Python script to calculate the correlation coefficient between two datasets."
      ],
      "metadata": {
        "id": "6-XBrA6RUDrv"
      }
    },
    {
      "cell_type": "code",
      "source": [
        "#6- Create a dataset and plot its histogram to visualize skewness\n",
        "import numpy as np\n",
        "import matplotlib.pyplot as plt\n",
        "\n",
        "# 1. Create a skewed dataset\n",
        "#   This dataset will have a long tail to the right, indicating positive skewness\n",
        "data = np.concatenate([np.random.normal(0, 1, 50), np.random.exponential(scale=2, size=50)])\n",
        "\n",
        "# 2. Plot a histogram\n",
        "plt.hist(data, bins=20, alpha=0.75) # Use 'bins' to control the number of bars in the histogram\n",
        "\n",
        "# Add labels and title\n",
        "plt.xlabel(\"Value\")\n",
        "plt.ylabel(\"Frequency\")\n",
        "plt.title(\"Histogram of Skewed Data\")\n",
        "\n",
        "# Display the plot\n",
        "plt.show()"
      ],
      "metadata": {
        "colab": {
          "base_uri": "https://localhost:8080/",
          "height": 472
        },
        "id": "eitI7EhsUL2V",
        "outputId": "b54e5f94-2a3a-4eaf-fa06-5024a210c604"
      },
      "execution_count": 10,
      "outputs": [
        {
          "output_type": "display_data",
          "data": {
            "text/plain": [
              "<Figure size 640x480 with 1 Axes>"
            ],
            "image/png": "[encoded data removed]"
          },
          "metadata": {}
        }
      ]
    },
    {
      "cell_type": "markdown",
      "source": [
        "#11. Create a scatter plot to visualize the relationship between two variables."
      ],
      "metadata": {
        "id": "Jl_o2QU1UgDI"
      }
    },
    {
      "cell_type": "code",
      "source": [
        "#7- Calculate skewness and kurtosis of a dataset using Python libraries.\n",
        "import pandas as pd\n",
        "from scipy.stats import skew, kurtosis\n",
        "\n",
        "# Sample dataset\n",
        "data = {'col1': [1, 2, 3, 4, 5],\n",
        "        'col2': [1, 3, 3, 7, 1, ],\n",
        "        'col3': [10, 20, 30, 40, 50]}\n",
        "\n",
        "df = pd.DataFrame(data)\n",
        "\n",
        "# Calculate skewness for each column\n",
        "skewness_values = df.skew()\n",
        "print(\"Skewness:\\n\", skewness_values)\n",
        "\n",
        "# Calculate kurtosis for each column\n",
        "kurtosis_values = df.kurt()\n",
        "print(\"\\nKurtosis:\\n\", kurtosis_values)"
      ],
      "metadata": {
        "colab": {
          "base_uri": "https://localhost:8080/"
        },
        "id": "5T44fUfjUkT6",
        "outputId": "d50ff676-475e-411f-e390-59db8a58ad44"
      },
      "execution_count": 11,
      "outputs": [
        {
          "output_type": "stream",
          "name": "stdout",
          "text": [
            "Skewness:\n",
            " col1    0.000000\n",
            "col2    1.360828\n",
            "col3    0.000000\n",
            "dtype: float64\n",
            "\n",
            "Kurtosis:\n",
            " col1   -1.2\n",
            "col2    2.0\n",
            "col3   -1.2\n",
            "dtype: float64\n"
          ]
        }
      ]
    },
    {
      "cell_type": "markdown",
      "source": [
        "#12. Implement and compare simple random sampling and systematic sampling."
      ],
      "metadata": {
        "id": "tWae9LrGUq1z"
      }
    },
    {
      "cell_type": "code",
      "source": [
        "#8-Generate a dataset and demonstrate positive and negative skewness.\n",
        "import matplotlib.pyplot as plt\n",
        "from scipy.stats import skew\n",
        "\n",
        "positive_skewed = [2, 3, 3, 4, 5, 6, 7, 20]\n",
        "negative_skewed = [1, 25, 26, 27, 28, 29, 30, 31]\n",
        "\n",
        "# Plotting\n",
        "fig, axs = plt.subplots(1, 2, figsize=(12, 5))\n",
        "\n",
        "# Positive Skew\n",
        "axs[0].hist(positive_skewed, bins=8, color='skyblue', edgecolor='black')\n",
        "axs[0].set_title(f'Positive Skew\\nSkewness = {skew(positive_skewed):.2f}')\n",
        "\n",
        "# Negative Skew\n",
        "axs[1].hist(negative_skewed, bins=8, color='salmon', edgecolor='black')\n",
        "axs[1].set_title(f'Negative Skew\\nSkewness = {skew(negative_skewed):.2f}')\n",
        "\n",
        "plt.tight_layout()\n",
        "plt.show()"
      ],
      "metadata": {
        "colab": {
          "base_uri": "https://localhost:8080/",
          "height": 506
        },
        "id": "34eRPKBgU-n-",
        "outputId": "f79418bc-5c11-4482-c2b5-13f7c70997e7"
      },
      "execution_count": 12,
      "outputs": [
        {
          "output_type": "display_data",
          "data": {
            "text/plain": [
              "<Figure size 1200x500 with 2 Axes>"
            ],
            "image/png": "[encoded data removed]"
          },
          "metadata": {}
        }
      ]
    },
    {
      "cell_type": "markdown",
      "source": [
        "#13. Calculate the mean, median, and mode of grouped data."
      ],
      "metadata": {
        "id": "hJW0ZfoXVQfY"
      }
    },
    {
      "cell_type": "code",
      "source": [
        "#9-  Write a Python script to calculate covariance between two datasets\n",
        "# Method 1: Manual Calculation\n",
        "def calculate_covariance(x, y):\n",
        "    if len(x) != len(y):\n",
        "        raise ValueError(\"Datasets must be of the same length\")\n",
        "\n",
        "    n = len(x)\n",
        "    mean_x = sum(x) / n\n",
        "    mean_y = sum(y) / n\n",
        "\n",
        "    covariance = sum((x[i] - mean_x) * (y[i] - mean_y) for i in range(n)) / (n - 1)\n",
        "    return covariance\n",
        "\n",
        "# Method 2: Using NumPy\n",
        "import numpy as np\n",
        "\n",
        "# Example datasets\n",
        "x = [2, 4, 6, 8, 10]\n",
        "y = [1, 3, 5, 7, 9]\n",
        "\n",
        "# Manual method\n",
        "manual_cov = calculate_covariance(x, y)\n",
        "print(f\"Covariance (manual calculation): {manual_cov:.2f}\")\n",
        "\n",
        "# NumPy method\n",
        "numpy_cov = np.cov(x, y, ddof=1)[0][1]\n",
        "print(f\"Covariance (NumPy): {numpy_cov:.2f}\")\n"
      ],
      "metadata": {
        "colab": {
          "base_uri": "https://localhost:8080/"
        },
        "id": "GKsmKUbpVTiC",
        "outputId": "a4e76ac2-420a-4513-b530-0006cf84bccb"
      },
      "execution_count": 13,
      "outputs": [
        {
          "output_type": "stream",
          "name": "stdout",
          "text": [
            "Covariance (manual calculation): 10.00\n",
            "Covariance (NumPy): 10.00\n"
          ]
        }
      ]
    },
    {
      "cell_type": "markdown",
      "source": [
        "#14. Implement sampling techniques like random sampling and stratified sampling."
      ],
      "metadata": {
        "id": "IeAjeGmNVdEf"
      }
    },
    {
      "cell_type": "code",
      "source": [
        "#11- Create a scatter plot to visualize the relationship between two variables\n",
        "import matplotlib.pyplot as plt\n",
        "\n",
        "# Example datasets (you can replace these with your own data)\n",
        "x = [2, 4, 6, 8, 10]\n",
        "y = [1, 3, 5, 7, 9]\n",
        "\n",
        "# Create scatter plot\n",
        "plt.figure(figsize=(8, 6))\n",
        "plt.scatter(x, y, color='blue', label='Data points')\n",
        "\n",
        "# Add title and labels\n",
        "plt.title('Scatter Plot of X vs Y', fontsize=14)\n",
        "plt.xlabel('X Variable', fontsize=12)\n",
        "plt.ylabel('Y Variable', fontsize=12)\n",
        "\n",
        "# Add grid for better readability\n",
        "plt.grid(True)\n",
        "\n",
        "# Show the plot\n",
        "plt.legend()\n",
        "plt.show()"
      ],
      "metadata": {
        "colab": {
          "base_uri": "https://localhost:8080/",
          "height": 569
        },
        "id": "jNtDAUYEVrHa",
        "outputId": "8771a65a-7fdb-4ea1-cbf9-386dfe98d29d"
      },
      "execution_count": 15,
      "outputs": [
        {
          "output_type": "display_data",
          "data": {
            "text/plain": [
              "<Figure size 800x600 with 1 Axes>"
            ],
            "image/png": "[encoded data removed]"
          },
          "metadata": {}
        }
      ]
    },
    {
      "cell_type": "markdown",
      "source": [
        "#15. Simulate data using Python and calculate its central tendency and dispersion."
      ],
      "metadata": {
        "id": "UAtMKUFvV3Am"
      }
    },
    {
      "cell_type": "code",
      "source": [
        "#12- Implement and compare simple random sampling and systematic sampling.\n",
        "import numpy as np\n",
        "import pandas as pd\n",
        "import matplotlib.pyplot as plt\n",
        "\n",
        "# Create a population dataset (example: heights of 1000 people)\n",
        "np.random.seed(42)\n",
        "population = np.random.normal(loc=170, scale=10, size=1000)  # mean height 170cm, std 10cm\n",
        "\n",
        "def simple_random_sample(population, sample_size):\n",
        "    \"\"\"Implement simple random sampling without replacement\"\"\"\n",
        "    indices = np.random.choice(len(population), size=sample_size, replace=False)\n",
        "    return population[indices]\n",
        "\n",
        "# Take a sample of 100\n",
        "srs_sample = simple_random_sample(population, 100)\n"
      ],
      "metadata": {
        "id": "Qjk8894YV8FX"
      },
      "execution_count": 16,
      "outputs": []
    },
    {
      "cell_type": "markdown",
      "source": [
        "#16. Write a Python function to calculate the range of a dataset."
      ],
      "metadata": {
        "id": "-XIxBPtRWFQ7"
      }
    },
    {
      "cell_type": "code",
      "source": [
        "def systematic_sample(population, sample_size):\n",
        "    \"\"\"Implement systematic sampling\"\"\"\n",
        "    step = len(population) // sample_size\n",
        "    start = np.random.randint(0, step)\n",
        "    indices = np.arange(start, len(population), step)[:sample_size]\n",
        "    return population[indices]\n",
        "\n",
        "# Take a sample of 100\n",
        "sys_sample = systematic_sample(population, 100)"
      ],
      "metadata": {
        "id": "KpVTPsumWHdI"
      },
      "execution_count": 17,
      "outputs": []
    },
    {
      "cell_type": "markdown",
      "source": [
        "#17. Use NumPy or pandas to summarize a dataset’s descriptive statistics."
      ],
      "metadata": {
        "id": "g9-WO6E_WMuC"
      }
    },
    {
      "cell_type": "code",
      "source": [
        "plt.figure(figsize=(12, 6))\n",
        "\n",
        "plt.subplot(1, 3, 1)\n",
        "plt.hist(population, bins=20, color='blue', alpha=0.7)\n",
        "plt.title(\"Population Distribution\")\n",
        "\n",
        "plt.subplot(1, 3, 2)\n",
        "plt.hist(srs_sample, bins=20, color='green', alpha=0.7)\n",
        "plt.title(\"Simple Random Sample\")\n",
        "\n",
        "plt.subplot(1, 3, 3)\n",
        "plt.hist(sys_sample, bins=20, color='red', alpha=0.7)\n",
        "plt.title(\"Systematic Sample\")\n",
        "\n",
        "plt.tight_layout()\n",
        "plt.show()"
      ],
      "metadata": {
        "colab": {
          "base_uri": "https://localhost:8080/",
          "height": 607
        },
        "id": "wqNH9571WT-v",
        "outputId": "a207f523-e7ca-4a36-b268-4928ca568d98"
      },
      "execution_count": 18,
      "outputs": [
        {
          "output_type": "display_data",
          "data": {
            "text/plain": [
              "<Figure size 1200x600 with 3 Axes>"
            ],
            "image/png": "[encoded data removed]"
          },
          "metadata": {}
        }
      ]
    },
    {
      "cell_type": "markdown",
      "source": [
        "#18. Plot a boxplot to understand the spread and identify outliers."
      ],
      "metadata": {
        "id": "FhzG8OfmZP-G"
      }
    },
    {
      "cell_type": "code",
      "source": [
        "#13- Calculate the mean, median, and mode of grouped data.\n",
        "# Install numpy if not already installed\n",
        "import numpy as np\n",
        "\n",
        "# Example grouped data\n",
        "# Edit these as needed\n",
        "class_intervals = [(0, 10), (10, 20), (20, 30), (30, 40), (40, 50)]\n",
        "frequencies = [5, 8, 15, 16, 6]\n",
        "\n",
        "# Step 1: Calculate class midpoints\n",
        "midpoints = [(low + high) / 2 for (low, high) in class_intervals]\n",
        "\n",
        "# Step 2: Mean calculation\n",
        "fx = [f * x for f, x in zip(frequencies, midpoints)]\n",
        "mean = sum(fx) / sum(frequencies)\n",
        "\n",
        "# Step 3: Median calculation\n",
        "cumulative_frequencies = np.cumsum(frequencies)\n",
        "N = sum(frequencies)\n",
        "median_class_index = next(i for i, cf in enumerate(cumulative_frequencies) if cf >= N/2)\n",
        "\n",
        "L = class_intervals[median_class_index][0]\n",
        "F = cumulative_frequencies[median_class_index - 1] if median_class_index > 0 else 0\n",
        "f_m = frequencies[median_class_index]\n",
        "h = class_intervals[0][1] - class_intervals[0][0]  # assuming equal width\n",
        "\n",
        "median = L + ((N / 2 - F) / f_m) * h\n",
        "\n",
        "# Step 4: Mode calculation\n",
        "modal_class_index = frequencies.index(max(frequencies))\n",
        "L_modal = class_intervals[modal_class_index][0]\n",
        "f1 = frequencies[modal_class_index]\n",
        "f0 = frequencies[modal_class_index - 1] if modal_class_index > 0 else 0\n",
        "f2 = frequencies[modal_class_index + 1] if modal_class_index < len(frequencies) - 1 else 0\n",
        "\n",
        "mode = L_modal + ((f1 - f0) / (2 * f1 - f0 - f2)) * h if (2 * f1 - f0 - f2) != 0 else None\n",
        "\n",
        "# Display the results\n",
        "print(f\"Mean: {mean}\")\n",
        "print(f\"Median: {median}\")\n",
        "print(f\"Mode: {mode if mode is not None else 'Cannot compute (division by zero)'}\")"
      ],
      "metadata": {
        "colab": {
          "base_uri": "https://localhost:8080/"
        },
        "id": "jm9rtD7yZUSD",
        "outputId": "19fe5718-37c4-4919-f4f4-da710fa8fae9"
      },
      "execution_count": 19,
      "outputs": [
        {
          "output_type": "stream",
          "name": "stdout",
          "text": [
            "Mean: 27.0\n",
            "Median: 28.0\n",
            "Mode: 30.90909090909091\n"
          ]
        }
      ]
    },
    {
      "cell_type": "markdown",
      "source": [
        "#19. Compare two datasets using their standard deviations."
      ],
      "metadata": {
        "id": "E9nsfXxsZnrs"
      }
    },
    {
      "cell_type": "code",
      "source": [
        "#19- Compare two datasets using their standard deviations\n",
        "import numpy as np\n",
        "import matplotlib.pyplot as plt\n",
        "# Dataset 1: Lower spread (smaller SD)\n",
        "data1 = np.array([72, 75, 78, 70, 74, 76, 77, 71, 73, 75])\n",
        "\n",
        "# Dataset 2: Higher spread (larger SD)\n",
        "data2 = np.array([60, 85, 90, 65, 55, 95, 70, 80, 75, 50])\n",
        "\n",
        "\n",
        "mean1, mean2 = np.mean(data1), np.mean(data2)\n",
        "std1, std2 = np.std(data1, ddof=1), np.std(data2, ddof=1)  # ddof=1 for sample SD\n",
        "\n",
        "print(f\"Dataset 1 - Mean: {mean1:.2f}, SD: {std1:.2f}\")\n",
        "print(f\"Dataset 2 - Mean: {mean2:.2f}, SD: {std2:.2f}\")\n",
        ""
      ],
      "metadata": {
        "colab": {
          "base_uri": "https://localhost:8080/"
        },
        "id": "eiv4PDorZkll",
        "outputId": "31b54732-1530-4ce7-9fa7-feb6e75cf7cb"
      },
      "execution_count": 21,
      "outputs": [
        {
          "output_type": "stream",
          "name": "stdout",
          "text": [
            "Dataset 1 - Mean: 74.10, SD: 2.60\n",
            "Dataset 2 - Mean: 72.50, SD: 15.14\n"
          ]
        }
      ]
    },
    {
      "cell_type": "markdown",
      "source": [
        "#20. Write a Python program to visualize covariance using a heatmap."
      ],
      "metadata": {
        "id": "Xng6mO3hayXw"
      }
    },
    {
      "cell_type": "code",
      "source": [
        "#20- Write a Python program to visualize covariance using a heatmap\n",
        "import pandas as pd\n",
        "import seaborn as sns\n",
        "import matplotlib.pyplot as plt\n",
        "\n",
        "# Sample dataset\n",
        "data = {\n",
        "    'Age': [25, 30, 35, 40, 28],\n",
        "    'Salary': [50000, 60000, 75000, 80000, 58000],\n",
        "    'Years_of_Experience': [1, 5, 10, 15, 3]\n",
        "}\n",
        "\n",
        "# Create DataFrame\n",
        "df = pd.DataFrame(data)\n",
        "\n",
        "# Calculate covariance matrix\n",
        "cov_matrix = df.cov()\n",
        "\n",
        "# Plot heatmap of the covariance matrix\n",
        "plt.figure(figsize=(8, 6))\n",
        "sns.heatmap(cov_matrix, annot=True, cmap='coolwarm', fmt='.2f', linewidths=0.5)\n",
        "plt.title('Covariance Matrix Heatmap')\n",
        "plt.show()"
      ],
      "metadata": {
        "colab": {
          "base_uri": "https://localhost:8080/",
          "height": 545
        },
        "id": "Q-8mLSYRa0qD",
        "outputId": "a5df8619-6c15-4fc7-fd19-c7ea3bf3f0fd"
      },
      "execution_count": 22,
      "outputs": [
        {
          "output_type": "display_data",
          "data": {
            "text/plain": [
              "<Figure size 800x600 with 2 Axes>"
            ],
            "image/png": "[encoded data removed]"
          },
          "metadata": {}
        }
      ]
    },
    {
      "cell_type": "markdown",
      "source": [
        "#21. Use seaborn to create a correlation matrix for a datase."
      ],
      "metadata": {
        "id": "TGHj4nlBbLy9"
      }
    },
    {
      "cell_type": "code",
      "source": [
        "#21-  Use seaborn to create a correlation matrix for a dataset.\n",
        "import pandas as pd\n",
        "import seaborn as sns\n",
        "import matplotlib.pyplot as plt\n",
        "\n",
        "# Sample dataset\n",
        "data = {\n",
        "    'Age': [25, 30, 35, 40, 28],\n",
        "    'Salary': [50000, 60000, 75000, 80000, 58000],\n",
        "    'Years_of_Experience': [1, 5, 10, 15, 3]\n",
        "}\n",
        "\n",
        "# Create DataFrame\n",
        "df = pd.DataFrame(data)\n",
        "\n",
        "# Calculate the correlation matrix\n",
        "correlation_matrix = df.corr()\n",
        "\n",
        "# Plot the heatmap of the correlation matrix\n",
        "plt.figure(figsize=(8, 6))\n",
        "sns.heatmap(correlation_matrix, annot=True, cmap='coolwarm', fmt='.2f', linewidths=0.5, vmin=-1, vmax=1)\n",
        "plt.title('Correlation Matrix Heatmap')\n",
        "plt.show()"
      ],
      "metadata": {
        "colab": {
          "base_uri": "https://localhost:8080/",
          "height": 545
        },
        "id": "Ldp-pegxbAnj",
        "outputId": "fcf1358c-97d0-46a1-9e7f-71fc6afd06be"
      },
      "execution_count": 23,
      "outputs": [
        {
          "output_type": "display_data",
          "data": {
            "text/plain": [
              "<Figure size 800x600 with 2 Axes>"
            ],
            "image/png": "[encoded data removed]"
          },
          "metadata": {}
        }
      ]
    },
    {
      "cell_type": "markdown",
      "source": [
        "#22. Generate a dataset and implement both variance and standard deviation computations."
      ],
      "metadata": {
        "id": "SJLK8bFQbeTH"
      }
    },
    {
      "cell_type": "code",
      "source": [
        "#22-  Generate a dataset and implement both variance and standard deviation computations\n",
        "import numpy as np\n",
        "import matplotlib.pyplot as plt\n",
        "\n",
        "# Set seed for reproducibility\n",
        "np.random.seed(42)\n",
        "\n",
        "# Generate 100 data points ~ N(mean=50, sd=10)\n",
        "data = np.random.normal(loc=50, scale=10, size=100)\n",
        "\n",
        "# Print first 5 values\n",
        "print(\"First 5 data points:\", data[:5])"
      ],
      "metadata": {
        "colab": {
          "base_uri": "https://localhost:8080/"
        },
        "id": "MfV4IaPobm3Z",
        "outputId": "9f98e3f4-ae2b-41c8-d059-93c1329e75cf"
      },
      "execution_count": 24,
      "outputs": [
        {
          "output_type": "stream",
          "name": "stdout",
          "text": [
            "First 5 data points: [54.96714153 48.61735699 56.47688538 65.23029856 47.65846625]\n"
          ]
        }
      ]
    },
    {
      "cell_type": "code",
      "source": [
        "mean = np.mean(data)\n",
        "print(f\"Mean: {mean:.2f}\")\n",
        ""
      ],
      "metadata": {
        "colab": {
          "base_uri": "https://localhost:8080/"
        },
        "id": "Qu7IW7r-cTeJ",
        "outputId": "8c4bdbce-9d24-439c-c33d-0ebdfc390cdd"
      },
      "execution_count": 25,
      "outputs": [
        {
          "output_type": "stream",
          "name": "stdout",
          "text": [
            "Mean: 48.96\n"
          ]
        }
      ]
    },
    {
      "cell_type": "code",
      "source": [
        "pop_variance = np.var(data, ddof=0)  # ddof=0 for population\n",
        "print(f\"Population Variance: {pop_variance:.2f}\")\n",
        ""
      ],
      "metadata": {
        "colab": {
          "base_uri": "https://localhost:8080/"
        },
        "id": "SVPFGiGicXiY",
        "outputId": "b54392f3-9a4c-4337-b996-c6adea2a8d17"
      },
      "execution_count": 26,
      "outputs": [
        {
          "output_type": "stream",
          "name": "stdout",
          "text": [
            "Population Variance: 81.65\n"
          ]
        }
      ]
    },
    {
      "cell_type": "code",
      "source": [
        "sample_variance = np.var(data, ddof=1)  # ddof=1 for sample\n",
        "print(f\"Sample Variance: {sample_variance:.2f}\")\n",
        ""
      ],
      "metadata": {
        "colab": {
          "base_uri": "https://localhost:8080/"
        },
        "id": "ecA6SLnKcbto",
        "outputId": "81d816e4-ac9c-4b35-d8e0-908fac34f6f2"
      },
      "execution_count": 27,
      "outputs": [
        {
          "output_type": "stream",
          "name": "stdout",
          "text": [
            "Sample Variance: 82.48\n"
          ]
        }
      ]
    },
    {
      "cell_type": "code",
      "source": [
        "pop_std = np.std(data, ddof=0)\n",
        "print(f\"Population SD: {pop_std:.2f}\")"
      ],
      "metadata": {
        "colab": {
          "base_uri": "https://localhost:8080/"
        },
        "id": "1bQubpc1cc_-",
        "outputId": "27032fad-5392-4fed-8dbe-33aa24d290aa"
      },
      "execution_count": 28,
      "outputs": [
        {
          "output_type": "stream",
          "name": "stdout",
          "text": [
            "Population SD: 9.04\n"
          ]
        }
      ]
    },
    {
      "cell_type": "code",
      "source": [
        "pop_std = np.std(data, ddof=0)\n",
        "print(f\"Population SD: {pop_std:.2f}\")\n",
        "\n"
      ],
      "metadata": {
        "colab": {
          "base_uri": "https://localhost:8080/"
        },
        "id": "kFonU7hZcqeN",
        "outputId": "9ad9afbd-efee-40c8-be19-743e8b024766"
      },
      "execution_count": 29,
      "outputs": [
        {
          "output_type": "stream",
          "name": "stdout",
          "text": [
            "Population SD: 9.04\n"
          ]
        }
      ]
    },
    {
      "cell_type": "markdown",
      "source": [
        "#23. Visualize skewness and kurtosis using Python libraries like matplotlib or seaborn.\n"
      ],
      "metadata": {
        "id": "PymazjdMcELd"
      }
    },
    {
      "cell_type": "code",
      "source": [
        "#23- Visualize skewness and kurtosis using Python libraries like matplotlib or seaborn\n",
        "import numpy as np\n",
        "import pandas as pd\n",
        "import seaborn as sns\n",
        "import matplotlib.pyplot as plt\n",
        "from scipy.stats import skew, kurtosis\n",
        "\n",
        "# Generate a sample dataset\n",
        "np.random.seed(0)\n",
        "data = np.random.beta(a=2, b=5, size=1000)  # Beta distribution (skewed)\n",
        "\n",
        "# Calculate skewness and kurtosis\n",
        "data_skewness = skew(data)\n",
        "data_kurtosis = kurtosis(data)\n",
        "\n",
        "# Create DataFrame for visualization\n",
        "df = pd.DataFrame(data, columns=['Feature'])\n",
        "\n",
        "# Set up the plotting area\n",
        "fig, axes = plt.subplots(1, 2, figsize=(15, 6))\n",
        "\n",
        "# Plot histogram\n",
        "sns.histplot(df['Feature'], kde=True, ax=axes[0], color='skyblue')\n",
        "axes[0].set_title(f\"Histogram (Skewness: {data_skewness:.2f}, Kurtosis: {data_kurtosis:.2f})\")\n",
        "\n",
        "# Plot boxplot\n",
        "sns.boxplot(x=df['Feature'], ax=axes[1], color='lightcoral')\n",
        "axes[1].set_title(\"Boxplot\")\n",
        "\n",
        "plt.tight_layout()\n",
        "plt.show()"
      ],
      "metadata": {
        "colab": {
          "base_uri": "https://localhost:8080/",
          "height": 509
        },
        "id": "9QnhhoAcbxpi",
        "outputId": "3e41f092-3628-48c3-dfcc-9d45996b8476"
      },
      "execution_count": 30,
      "outputs": [
        {
          "output_type": "display_data",
          "data": {
            "text/plain": [
              "<Figure size 1500x600 with 2 Axes>"
            ],
            "image/png": "[encoded data removed]"
          },
          "metadata": {}
        }
      ]
    },
    {
      "cell_type": "markdown",
      "source": [
        "#24.  Implement the Pearson and Spearman correlation coefficients for a dataset."
      ],
      "metadata": {
        "id": "KbmotqvEc9Yy"
      }
    },
    {
      "cell_type": "code",
      "source": [
        "#24- Implement the Pearson and Spearman correlation coefficients for a dataset.\n",
        "import pandas as pd\n",
        "import numpy as np\n",
        "from scipy.stats import spearmanr\n",
        "\n",
        "# Sample dataset\n",
        "data = {\n",
        "    'Age': [25, 30, 35, 40, 28],\n",
        "    'Salary': [50000, 60000, 75000, 80000, 58000],\n",
        "    'Years_of_Experience': [1, 5, 10, 15, 3]\n",
        "}\n",
        "\n",
        "# Create DataFrame\n",
        "df = pd.DataFrame(data)\n",
        "\n",
        "# Pearson Correlation using pandas\n",
        "pearson_corr = df.corr(method='pearson')\n",
        "\n",
        "# Spearman Correlation using scipy\n",
        "spearman_corr, _ = spearmanr(df)\n",
        "\n",
        "# Display results\n",
        "print(\"Pearson Correlation Matrix:\\n\", pearson_corr)\n",
        "print(\"\\nSpearman Correlation Matrix:\\n\", spearman_corr)\n"
      ],
      "metadata": {
        "colab": {
          "base_uri": "https://localhost:8080/"
        },
        "id": "d3xEDiyVc4pq",
        "outputId": "3834d6c2-abd7-45fc-b126-f0bfe6735fb9"
      },
      "execution_count": 31,
      "outputs": [
        {
          "output_type": "stream",
          "name": "stdout",
          "text": [
            "Pearson Correlation Matrix:\n",
            "                           Age    Salary  Years_of_Experience\n",
            "Age                  1.000000  0.985029             0.998090\n",
            "Salary               0.985029  1.000000             0.979823\n",
            "Years_of_Experience  0.998090  0.979823             1.000000\n",
            "\n",
            "Spearman Correlation Matrix:\n",
            " [[1. 1. 1.]\n",
            " [1. 1. 1.]\n",
            " [1. 1. 1.]]\n"
          ]
        }
      ]
    },
    {
      "cell_type": "markdown",
      "source": [
        "#THANKYOU"
      ],
      "metadata": {
        "id": "1tHfg8p-dFiV"
      }
    }
  ]
}