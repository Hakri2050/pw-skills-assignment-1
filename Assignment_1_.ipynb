{
  "nbformat": 4,
  "nbformat_minor": 0,
  "metadata": {
    "colab": {
      "provenance": []
    },
    "kernelspec": {
      "name": "python3",
      "display_name": "Python 3"
    },
    "language_info": {
      "name": "python"
    }
  },
  "cells": [
    {
      "cell_type": "markdown",
      "source": [],
      "metadata": {
        "id": "Y9MZhFxLLIbQ"
      }
    },
    {
      "cell_type": "markdown",
      "source": [
        "# 1. What is Python, and why is it popular?"
      ],
      "metadata": {
        "id": "h1YzlJtWL6TA"
      }
    },
    {
      "cell_type": "markdown",
      "source": [
        "Python is the most popular programming language in the world. It is known for is readability and ease of use.\n",
        "Python is popular for its:\n",
        "  1. Rich liabraries\n",
        "  2. Open source\n",
        "  3. Readability and Simplicity\n",
        "  4. Ease of learning\n",
        "  5. Growing demand  "
      ],
      "metadata": {
        "id": "_zSILpZMObhL"
      }
    },
    {
      "cell_type": "markdown",
      "source": [],
      "metadata": {
        "id": "PO1QLf40OCCh"
      }
    },
    {
      "cell_type": "code",
      "source": [
        "print(\"hello world\")"
      ],
      "metadata": {
        "colab": {
          "base_uri": "https://localhost:8080/"
        },
        "id": "0QSuvXUfNd3S",
        "outputId": "5210c1ce-a95a-4d57-b4e5-d747887cd563"
      },
      "execution_count": null,
      "outputs": [
        {
          "output_type": "stream",
          "name": "stdout",
          "text": [
            "hello world\n"
          ]
        }
      ]
    },
    {
      "cell_type": "markdown",
      "source": [
        "hello"
      ],
      "metadata": {
        "id": "UE9HNLK3N0gM"
      }
    },
    {
      "cell_type": "markdown",
      "source": [
        "#2. What is interpreter in Python"
      ],
      "metadata": {
        "id": "-czbJ_PeOoGc"
      }
    },
    {
      "cell_type": "markdown",
      "source": [
        "In python, an interprater is a progam that reads and executes python code line by line. The interprater translate the high-level Python code into machine-readale instructions on the fly."
      ],
      "metadata": {
        "id": "eEkfbTkrO7O_"
      }
    },
    {
      "cell_type": "markdown",
      "source": [
        "# 3. What are pre-defined keywords in python"
      ],
      "metadata": {
        "id": "UsRO8OySPfxm"
      }
    },
    {
      "cell_type": "markdown",
      "source": [
        "Python has a set of reserved keywods that have special meaning and cannot used as variable names, or identifiers:       for example"
      ],
      "metadata": {
        "id": "Yzsw5pdqQU1u"
      }
    },
    {
      "cell_type": "code",
      "source": [
        "print(\"for  else  if  continue  is  else  elif  break\")"
      ],
      "metadata": {
        "colab": {
          "base_uri": "https://localhost:8080/"
        },
        "id": "82FU41uqRDKP",
        "outputId": "4b7524e7-b5a4-4128-e823-93b139ba1591"
      },
      "execution_count": null,
      "outputs": [
        {
          "output_type": "stream",
          "name": "stdout",
          "text": [
            "for  else  if  continue  is  else  elif  break\n"
          ]
        }
      ]
    },
    {
      "cell_type": "markdown",
      "source": [
        "#4. Can keywords be used as variable names in python ?"
      ],
      "metadata": {
        "id": "ruJITcz9R3ja"
      }
    },
    {
      "cell_type": "markdown",
      "source": [
        "No keywods cannot be used as variable in Python, because they are reserved words that have a predefined meaning in the language for example:\n",
        "\n",
        "\n",
        "\n",
        "\n",
        "\n",
        "\n",
        "\n",
        "\n",
        "\n",
        "\n",
        "\n",
        "\n",
        "\n",
        "\n"
      ],
      "metadata": {
        "id": "Qz2pp6rVTtf9"
      }
    },
    {
      "cell_type": "code",
      "source": [
        "if_var = 10 #Valid\n",
        "# if = 10 ( Will be invalid and show error )"
      ],
      "metadata": {
        "id": "Ko5pnF-_VVNG"
      },
      "execution_count": null,
      "outputs": []
    },
    {
      "cell_type": "markdown",
      "source": [
        "# 5. What is mutability in Python"
      ],
      "metadata": {
        "id": "n5_Uv3TIVx5r"
      }
    },
    {
      "cell_type": "markdown",
      "source": [
        "Mutability in python allow modification of their contents without changing their identity"
      ],
      "metadata": {
        "id": "78BBgBjDWmNM"
      }
    },
    {
      "cell_type": "markdown",
      "source": [
        "# 6. Why are lists are mutable, but tuples are immutable ?"
      ],
      "metadata": {
        "id": "38f3uNSeYT9I"
      }
    },
    {
      "cell_type": "markdown",
      "source": [
        "lists allows modification, meaning elements can be added, removed, or changed after creation."
      ],
      "metadata": {
        "id": "KwOMjPboYtyE"
      }
    },
    {
      "cell_type": "code",
      "source": [
        "my_list = [1, 2, 3]\n",
        "my_list[0] = 10\n",
        "print(my_list) # This is correct"
      ],
      "metadata": {
        "colab": {
          "base_uri": "https://localhost:8080/"
        },
        "id": "lKfXT6sbYQbG",
        "outputId": "396eba8c-7f8e-4d3a-9a94-95734d5a0d1a"
      },
      "execution_count": null,
      "outputs": [
        {
          "output_type": "stream",
          "name": "stdout",
          "text": [
            "[10, 2, 3]\n"
          ]
        }
      ]
    },
    {
      "cell_type": "markdown",
      "source": [
        "Tuples do not allow modifications after creation. They are stored in a fixed structure, making them faster and memory-efficient compared to lis:"
      ],
      "metadata": {
        "id": "XLScySAobPg8"
      }
    },
    {
      "cell_type": "markdown",
      "source": [
        "my_list = [1, 2, 3]\n",
        "my_list[0] = 10\n",
        "print(my_list)"
      ],
      "metadata": {
        "id": "Kqm5UJJacdXp"
      }
    },
    {
      "cell_type": "code",
      "source": [
        "print (\"my_tuples = (1, 2, 3)\")\n",
        "print (\"my_tuples [0] = 100\")\n",
        "print(\"@this will show error\")"
      ],
      "metadata": {
        "colab": {
          "base_uri": "https://localhost:8080/"
        },
        "id": "Injp0-cpbk9r",
        "outputId": "7544178c-a3cf-42f2-f8b5-02e683f1fc6c"
      },
      "execution_count": null,
      "outputs": [
        {
          "output_type": "stream",
          "name": "stdout",
          "text": [
            "my_tuples = (1, 2, 3)\n",
            "my_tuples [0] = 100\n",
            "@this will show error\n"
          ]
        }
      ]
    },
    {
      "cell_type": "markdown",
      "source": [
        "# 7. What are the difference between \"==\" and \"is\" operators in Python ?"
      ],
      "metadata": {
        "id": "K6bZzY8BdwOt"
      }
    },
    {
      "cell_type": "markdown",
      "source": [
        "\"==\" is the (Equality operator) it checks weather the values of two objects are equal. It compares the contents."
      ],
      "metadata": {
        "id": "9XQShi9qecvh"
      }
    },
    {
      "cell_type": "code",
      "source": [
        "a = [1,2,3]\n",
        "b = [1,2,3]\n",
        "print(a==b) # Output: True(because values are same)"
      ],
      "metadata": {
        "colab": {
          "base_uri": "https://localhost:8080/"
        },
        "id": "j6ktRztkfL08",
        "outputId": "e2d72a63-1d65-411a-b51a-d9e814b43a44"
      },
      "execution_count": null,
      "outputs": [
        {
          "output_type": "stream",
          "name": "stdout",
          "text": [
            "True\n"
          ]
        }
      ]
    },
    {
      "cell_type": "markdown",
      "source": [
        "# 8. What are logical operators in Python ?"
      ],
      "metadata": {
        "id": "FtuqqeI-fsRe"
      }
    },
    {
      "cell_type": "markdown",
      "source": [
        "In the oython logical operators are used to combine conditional statements or expressions, and they return a Boolen value."
      ],
      "metadata": {
        "id": "7t5_HkhPf37P"
      }
    },
    {
      "cell_type": "markdown",
      "source": [
        "# 9. What is typecasting in Python ?"
      ],
      "metadata": {
        "id": "yEtw4OP8goQM"
      }
    },
    {
      "cell_type": "markdown",
      "source": [
        "Type casting in python refers to the process one dattype to another. This is commenly done when you need to perform operations between different type of data or ensure the correct type for a specific functions or operations."
      ],
      "metadata": {
        "id": "zkXd-1oGgySy"
      }
    },
    {
      "cell_type": "markdown",
      "source": [
        "#10. What are the differnce between implict and explict type casting ?"
      ],
      "metadata": {
        "id": "KOGA1sZYjKz0"
      }
    },
    {
      "cell_type": "markdown",
      "source": [
        "The dfference between implict and eplict typecasting in Python are bellow:\n",
        "\n",
        "IMPLICT TYPECASTING = it is automatically controled by python without any user input, it happens when we perform operations between compatible types (e.g., int + float)\n",
        "\n",
        "EXPLICT TYPECASTING = it is used and controlled by programmer and programmer deciedes how and when to perform the conversation. It is used in a special case or for a specific reason (e.g., string to int)"
      ],
      "metadata": {
        "id": "rWQL5izijOM0"
      }
    },
    {
      "cell_type": "markdown",
      "source": [
        "# 11. What are the purpose of condional statements in Python ?"
      ],
      "metadata": {
        "id": "PQkQw1B0luO-"
      }
    },
    {
      "cell_type": "markdown",
      "source": [
        "Condtional statemnets in python allows you to execute certain blocks of code based on specific conditions. They helps in making decisions within a program, providing control over the flow of execution depending on weather certain conditions are true or false"
      ],
      "metadata": {
        "id": "G-f7fX0QmE0Q"
      }
    },
    {
      "cell_type": "markdown",
      "source": [
        "# 12. How does the elif statement work ?"
      ],
      "metadata": {
        "id": "NRXH9WXtnhwp"
      }
    },
    {
      "cell_type": "markdown",
      "source": [
        "The elif statement in Python is the short for \"else if\" and is used in conditional statements to check mutiple conditions sequentially. It allows you to test multiple conditons one after another and execute a block of code for the first condition that evaluates to True"
      ],
      "metadata": {
        "id": "fCwd-5BLnmhq"
      }
    },
    {
      "cell_type": "markdown",
      "source": [
        "# 13. What are the difference between for and while loops ?"
      ],
      "metadata": {
        "id": "c45FP0tXxQWf"
      }
    },
    {
      "cell_type": "markdown",
      "source": [
        "Both for and while loops are used for iterration in Python, but they have different use cases and ways of fuctioning.\n",
        "\n",
        "'While' loop is useful when you need to repeat a block of coe until a certain condtions met. It is commenly used in scenerio where the number of iterations is not known in advance.\n",
        "\n",
        "'for' loop in Python is used for itering over a sequence (such as lists, tuples, strings, dictionaries, or ranges)"
      ],
      "metadata": {
        "id": "RQy390caxgkj"
      }
    },
    {
      "cell_type": "markdown",
      "source": [
        "# 14. Describe a scenario where a while loop is more suitable than a for loop."
      ],
      "metadata": {
        "id": "ORgwwm_O0PTa"
      }
    },
    {
      "cell_type": "markdown",
      "source": [
        "A while loop is more suitable than a for loop when you don't know in advance how many times the loop should run. It is ideal for situations depends on a conditions rather than a predefined range."
      ],
      "metadata": {
        "id": "yXwXZ2Ee0pnG"
      }
    },
    {
      "cell_type": "markdown",
      "source": [
        "# Practical questions"
      ],
      "metadata": {
        "id": "xnDjUo-81J6Z"
      }
    },
    {
      "cell_type": "markdown",
      "source": [
        "# 1. Write a Python programme to Print \"Hello, World!\""
      ],
      "metadata": {
        "id": "P1F0Epzx1p5o"
      }
    },
    {
      "cell_type": "code",
      "source": [
        "print(\"Hello, World\")"
      ],
      "metadata": {
        "id": "BJPI0zY7339w",
        "colab": {
          "base_uri": "https://localhost:8080/"
        },
        "outputId": "20747ff3-6079-4a3b-ee0c-837108fe6589"
      },
      "execution_count": 3,
      "outputs": [
        {
          "output_type": "stream",
          "name": "stdout",
          "text": [
            "Hello, World\n"
          ]
        }
      ]
    },
    {
      "cell_type": "markdown",
      "source": [
        "# 2. Write a Python program that displays your name and age."
      ],
      "metadata": {
        "id": "QdGqfd4FGE3Y"
      }
    },
    {
      "cell_type": "code",
      "source": [
        "print(\"My name is Harsh Kumar Thakur\")\n",
        "print(\"I am 20 years old\")"
      ],
      "metadata": {
        "colab": {
          "base_uri": "https://localhost:8080/"
        },
        "id": "OVj06yVaGQAv",
        "outputId": "421f6b11-747a-44bc-a5fd-a73af10694cc"
      },
      "execution_count": 5,
      "outputs": [
        {
          "output_type": "stream",
          "name": "stdout",
          "text": [
            "My name is Harsh Kumar Thakur\n",
            "I am 20 years old\n"
          ]
        }
      ]
    },
    {
      "cell_type": "markdown",
      "source": [
        "# 3. Write code to print all the pre-defined keywords in Python using the keyword library."
      ],
      "metadata": {
        "id": "I9G74EI7GvBY"
      }
    },
    {
      "cell_type": "code",
      "source": [
        "import keyword\n",
        "print(keyword.kwlist)"
      ],
      "metadata": {
        "colab": {
          "base_uri": "https://localhost:8080/"
        },
        "id": "QmXQwwXdG2Lo",
        "outputId": "cca9c91f-9f12-4418-ff3e-31d919e01b07"
      },
      "execution_count": 6,
      "outputs": [
        {
          "output_type": "stream",
          "name": "stdout",
          "text": [
            "['False', 'None', 'True', 'and', 'as', 'assert', 'async', 'await', 'break', 'class', 'continue', 'def', 'del', 'elif', 'else', 'except', 'finally', 'for', 'from', 'global', 'if', 'import', 'in', 'is', 'lambda', 'nonlocal', 'not', 'or', 'pass', 'raise', 'return', 'try', 'while', 'with', 'yield']\n"
          ]
        }
      ]
    },
    {
      "cell_type": "markdown",
      "source": [
        "# 4. Write a program that checks if a given word is a Python keyword."
      ],
      "metadata": {
        "id": "kHnwcsJtLpGS"
      }
    },
    {
      "cell_type": "code",
      "source": [
        "import keyword\n",
        "word = input(\"Enter a word: \")\n",
        "if keyword.iskeyword(word):\n",
        "  print(f\"{word} is a Python keyword\")"
      ],
      "metadata": {
        "colab": {
          "base_uri": "https://localhost:8080/"
        },
        "id": "oBkLv93PMPkJ",
        "outputId": "bfb71953-26c8-42b1-a2a5-e11fde479a7c"
      },
      "execution_count": 7,
      "outputs": [
        {
          "name": "stdout",
          "output_type": "stream",
          "text": [
            "Enter a word:  Hello\n"
          ]
        }
      ]
    },
    {
      "cell_type": "markdown",
      "source": [
        "# 5. Create a list and tuple in Python, and demonstrate how attempting to change an element works differently for each."
      ],
      "metadata": {
        "id": "6mNjf1UpMo9-"
      }
    },
    {
      "cell_type": "code",
      "source": [
        "l = [25,60,45,30,90]\n",
        "t = (25,60,45,30,90)\n",
        "\n",
        "# Modifying an element in the list\n",
        "l[0] = \"Sandeep\"\n",
        "print(\"Modify list:\",l)\n",
        "\n",
        "# Attempting to modify an element in the tuple (will raise an error)\n",
        "try:\n",
        "    t[2] = \"Sandeep\"\n",
        "except TypeError as e:\n",
        "    print(\"Error:\", e)"
      ],
      "metadata": {
        "colab": {
          "base_uri": "https://localhost:8080/"
        },
        "id": "zzJzT0M9M5Ga",
        "outputId": "e7a60abe-593d-4344-bad2-4a7b3b4f66f8"
      },
      "execution_count": 8,
      "outputs": [
        {
          "output_type": "stream",
          "name": "stdout",
          "text": [
            "Modify list: ['Sandeep', 60, 45, 30, 90]\n",
            "Error: 'tuple' object does not support item assignment\n"
          ]
        }
      ]
    },
    {
      "cell_type": "markdown",
      "source": [
        "# 6. Write a function to demonstrate the behavior of mutable and immutable arguments"
      ],
      "metadata": {
        "id": "5mUFt5fFO3Yk"
      }
    },
    {
      "cell_type": "code",
      "source": [
        "def modify_stuff(immutable, mutable):\n",
        "    # Trying to change an immutable thing (like a number)\n",
        "    immutable += 10\n",
        "    print(\"Inside function (immutable):\", immutable)\n",
        "\n",
        "    # Changing a mutable thing (like a list)\n",
        "    mutable.append(99)\n",
        "    print(\"Inside function (mutable):\", mutable)\n",
        "\n",
        "# Immutable thing (number)\n",
        "num = 5\n",
        "# Mutable thing (list)\n",
        "my_list = [1, 2, 3]\n",
        "\n",
        "print(\"Before function call:\")\n",
        "print(\"Number:\", num)\n",
        "print(\"List:\", my_list)\n",
        "\n",
        "modify_stuff(num, my_list)\n",
        "\n",
        "print(\"\\nAfter function call:\")\n",
        "print(\"Number:\", num)  # Still the same\n",
        "print(\"List:\", my_list)  # C"
      ],
      "metadata": {
        "colab": {
          "base_uri": "https://localhost:8080/"
        },
        "id": "gjK-iTFGPAAk",
        "outputId": "9f142018-4c4d-48c3-efed-7bce1aba8a5f"
      },
      "execution_count": 9,
      "outputs": [
        {
          "output_type": "stream",
          "name": "stdout",
          "text": [
            "Before function call:\n",
            "Number: 5\n",
            "List: [1, 2, 3]\n",
            "Inside function (immutable): 15\n",
            "Inside function (mutable): [1, 2, 3, 99]\n",
            "\n",
            "After function call:\n",
            "Number: 5\n",
            "List: [1, 2, 3, 99]\n"
          ]
        }
      ]
    },
    {
      "cell_type": "markdown",
      "source": [
        "# 7. Write a function to demonstrate the behavior of mutable and immutable arguments."
      ],
      "metadata": {
        "id": "Ynb9II_KPQnE"
      }
    },
    {
      "cell_type": "code",
      "source": [
        "def test_mutable_immutable(num, my_list):\n",
        "    num += 10  # Modifying an immutable argument (integer)\n",
        "    my_list.append(4)  # Modifying a mutable argument (list)\n",
        "\n",
        "    print(\"Inside function - num:\", num)\n",
        "    print(\"Inside function - my_list:\", my_list)\n",
        "\n",
        "# Immutable argument (integer)\n",
        "x = 5\n",
        "# Mutable argument (list)\n",
        "y = [1, 2, 3]\n",
        "\n",
        "print(\"Before function call - x:\", x)\n",
        "print(\"Before function call - y:\", y)\n",
        "\n",
        "test_mutable_immutable(x, y)\n",
        "\n",
        "print(\"After function call - x:\", x)  # x remains unchanged\n",
        "print(\"After function call - y:\", y)  # y is modified"
      ],
      "metadata": {
        "colab": {
          "base_uri": "https://localhost:8080/"
        },
        "id": "iJHcgdDGPYk3",
        "outputId": "00fa0fcf-7906-44ad-8c2b-63a8088e26fb"
      },
      "execution_count": 10,
      "outputs": [
        {
          "output_type": "stream",
          "name": "stdout",
          "text": [
            "Before function call - x: 5\n",
            "Before function call - y: [1, 2, 3]\n",
            "Inside function - num: 15\n",
            "Inside function - my_list: [1, 2, 3, 4]\n",
            "After function call - x: 5\n",
            "After function call - y: [1, 2, 3, 4]\n"
          ]
        }
      ]
    },
    {
      "cell_type": "markdown",
      "source": [
        "# 8. Write a program to demonstrate the use of logical operators."
      ],
      "metadata": {
        "id": "12aAUwBLP1mo"
      }
    },
    {
      "cell_type": "code",
      "source": [
        "\n",
        "# Logical Operators Example\n",
        "\n",
        "a = True\n",
        "b = False\n",
        "\n",
        "# Using 'and' operator\n",
        "print(\"a and b:\", a and b)  # False because both must be True\n",
        "\n",
        "# Using 'or' operator\n",
        "print(\"a or b:\", a or b)  # True because at least one is True\n",
        "\n",
        "# Using 'not' operator\n",
        "print(\"not a:\", not a)  # False because 'a' is True\n",
        "print(\"not b:\", not b)  # True because 'b' is False\n",
        "\n",
        "# Logical operators with numbers\n",
        "x = 10\n",
        "y = 5\n",
        "\n",
        "print(\"x > 5 and y < 10:\", x > 5 and y < 10)  # True (both conditions are True)\n",
        "print(\"x < 5 or y < 10:\", x < 5 or y < 10)   # True (one condition is True)\n",
        "print(\"not (x == 10):\", not (x == 10))       # False (x is 10, so `not` makes it False)\n",
        ""
      ],
      "metadata": {
        "colab": {
          "base_uri": "https://localhost:8080/"
        },
        "id": "UeZEdoCwP9bI",
        "outputId": "51595c94-2fdc-47d1-8d9f-61bea04a679a"
      },
      "execution_count": 11,
      "outputs": [
        {
          "output_type": "stream",
          "name": "stdout",
          "text": [
            "a and b: False\n",
            "a or b: True\n",
            "not a: False\n",
            "not b: True\n",
            "x > 5 and y < 10: True\n",
            "x < 5 or y < 10: True\n",
            "not (x == 10): False\n"
          ]
        }
      ]
    },
    {
      "cell_type": "markdown",
      "source": [
        "# 9. Write a Python program to convert user input from string to integer, float, and boolean types."
      ],
      "metadata": {
        "id": "vB81wCvEQJgm"
      }
    },
    {
      "cell_type": "code",
      "source": [
        "user_input = input(\"Enter a value: \")\n",
        "\n",
        "int_input = int(user_input)\n",
        "float_input = float(user_input)\n",
        "bool_input = bool(user_input)\n",
        "\n",
        "print(\"Input as integer:\", int_input)\n",
        "print(\"Input as float:\", float_input)\n",
        "print(\"Input as boolean:\", bool_input)"
      ],
      "metadata": {
        "colab": {
          "base_uri": "https://localhost:8080/"
        },
        "id": "c_qjIb8zQN2o",
        "outputId": "edc43c3d-7beb-4bb8-b8e8-c06df931b3bb"
      },
      "execution_count": 12,
      "outputs": [
        {
          "output_type": "stream",
          "name": "stdout",
          "text": [
            "Enter a value:  10\n",
            "Input as integer: 10\n",
            "Input as float: 10.0\n",
            "Input as boolean: True\n"
          ]
        }
      ]
    },
    {
      "cell_type": "markdown",
      "source": [
        "# 10.Write code to demonstrate type casting with list elements."
      ],
      "metadata": {
        "id": "59VfUf5TQbYK"
      }
    },
    {
      "cell_type": "code",
      "source": [
        "# Original list with different data types\n",
        "z_list = [\"1\", \"45\", \"6.7\", \"Zopper\"]  # All elements are strings\n",
        "\n",
        "# Convert elements to different types\n",
        "int_list = [int(z_list[0]), int(z_list[1])]  # Convert first two to integers\n",
        "float_list = [float(z_list[2])]  # Convert third element to float\n",
        "bool_list = [bool(z_list[3])]  # Convert fourth element to boolean\n",
        "\n",
        "# Print results\n",
        "print(\"Original list:\", z_list)\n",
        "print(\"As integers:\", int_list)\n",
        "print(\"As floats:\", float_list)\n",
        "print(\"As booleans:\", bool_list)"
      ],
      "metadata": {
        "colab": {
          "base_uri": "https://localhost:8080/"
        },
        "id": "S4Z5Cbv-Qz2N",
        "outputId": "cc80daaa-6351-4424-f292-78377db02cb1"
      },
      "execution_count": 13,
      "outputs": [
        {
          "output_type": "stream",
          "name": "stdout",
          "text": [
            "Original list: ['1', '45', '6.7', 'Zopper']\n",
            "As integers: [1, 45]\n",
            "As floats: [6.7]\n",
            "As booleans: [True]\n"
          ]
        }
      ]
    },
    {
      "cell_type": "markdown",
      "source": [
        "# 11. Write a program that checks if a number is positive, negative, or zero."
      ],
      "metadata": {
        "id": "j4-p76BxQbMd"
      }
    },
    {
      "cell_type": "code",
      "source": [
        "# Get user input\n",
        "number = int(input(\"Write a number to check: \"))\n",
        "\n",
        "# Check if the number is positive, negative, or zero\n",
        "if number<0:\n",
        "    print(\"The number is negative.\")\n",
        "elif number>0:\n",
        "    print(\"The number is positive.\")\n",
        "else:\n",
        "    print(\"The number is zero.\")"
      ],
      "metadata": {
        "colab": {
          "base_uri": "https://localhost:8080/"
        },
        "id": "UoUH4lf0RBuW",
        "outputId": "bbd59cd0-f145-4bbb-8f44-7dd4b0168c48"
      },
      "execution_count": 14,
      "outputs": [
        {
          "output_type": "stream",
          "name": "stdout",
          "text": [
            "Write a number to check: 1\n",
            "The number is positive.\n"
          ]
        }
      ]
    },
    {
      "cell_type": "markdown",
      "source": [
        "# 12. Write a for loop to print numbers from 1 to 10."
      ],
      "metadata": {
        "id": "7u80KHToQbA-"
      }
    },
    {
      "cell_type": "code",
      "source": [
        "for i in range(1,11):\n",
        "  if i<10:\n",
        "    print(i,end=\", \")\n",
        "  else:\n",
        "    print(i)"
      ],
      "metadata": {
        "colab": {
          "base_uri": "https://localhost:8080/"
        },
        "id": "4HOsU1n3RN0u",
        "outputId": "a7bc6426-2617-4297-8fc1-7d23b46168a2"
      },
      "execution_count": 15,
      "outputs": [
        {
          "output_type": "stream",
          "name": "stdout",
          "text": [
            "1, 2, 3, 4, 5, 6, 7, 8, 9, 10\n"
          ]
        }
      ]
    },
    {
      "cell_type": "markdown",
      "source": [
        "# 13. Write a Python program to find the sum of all even numbers between 1 and 50."
      ],
      "metadata": {
        "id": "ECceivOhRYsL"
      }
    },
    {
      "cell_type": "code",
      "source": [
        "# Initialize sum variable\n",
        "sum_of_even = 0\n",
        "\n",
        "# Loop through numbers from 1 to 50\n",
        "for i in range(2, 51, 2):  # Start from 2, step by 2 to get even numbers\n",
        "    sum_of_even += i\n",
        "\n",
        "# Print the result\n",
        "print(\"Sum of even numbers between 1 and 50:\", sum_of_even)"
      ],
      "metadata": {
        "colab": {
          "base_uri": "https://localhost:8080/"
        },
        "id": "EogUpjicR5Ti",
        "outputId": "16cef716-4760-447f-d334-244ce0880827"
      },
      "execution_count": 16,
      "outputs": [
        {
          "output_type": "stream",
          "name": "stdout",
          "text": [
            "Sum of even numbers between 1 and 50: 650\n"
          ]
        }
      ]
    },
    {
      "cell_type": "markdown",
      "source": [
        "# 14. Write a program to reverse a string using a while loop."
      ],
      "metadata": {
        "id": "HtGuXFpuR_SL"
      }
    },
    {
      "cell_type": "code",
      "source": [
        "# Get user input\n",
        "text = input(\"Enter a string: \")\n",
        "\n",
        "# Initialize variables\n",
        "reversed_text = \"\"  # This will store the reversed string\n",
        "index = len(text) - 1  # Start from the last character\n",
        "\n",
        "# Loop through the string in reverse order\n",
        "while index >= 0:\n",
        "    reversed_text += text[index]  # Add each character to reversed_text\n",
        "    index -= 1  # Move to the previous character\n",
        "\n",
        "# Print the reversed string\n",
        "print(\"Reversed string:\", reversed_text)\n",
        ""
      ],
      "metadata": {
        "colab": {
          "base_uri": "https://localhost:8080/"
        },
        "id": "nOyUime_SFsD",
        "outputId": "270ad716-eb45-46fe-c577-8c8e8775542d"
      },
      "execution_count": 17,
      "outputs": [
        {
          "output_type": "stream",
          "name": "stdout",
          "text": [
            "Enter a string: \n",
            "Reversed string: \n"
          ]
        }
      ]
    },
    {
      "cell_type": "markdown",
      "source": [
        "# 15. Write a Python program to calculate the factorial of a number provided by the user using a while loop."
      ],
      "metadata": {
        "id": "50QT9vqCSQrb"
      }
    },
    {
      "cell_type": "code",
      "source": [
        "# Get user input\n",
        "num = int(input(\"Enter a number: \"))\n",
        "\n",
        "# Initialize variables\n",
        "factorial = 1\n",
        "i = num  # Start from the given number\n",
        "\n",
        "# Use while loop to calculate factorial\n",
        "while i > 0:\n",
        "    factorial *= i  # Multiply factorial by the current number\n",
        "    i -= 1  # Decrease the number by 1\n",
        "\n",
        "# Print the result\n",
        "print(f\"The factorial of {num} is: {factorial}\")\n"
      ],
      "metadata": {
        "colab": {
          "base_uri": "https://localhost:8080/"
        },
        "id": "oxLd4YMaSTtJ",
        "outputId": "cc386765-8132-4fe3-a038-99656378d8b0"
      },
      "execution_count": 18,
      "outputs": [
        {
          "output_type": "stream",
          "name": "stdout",
          "text": [
            "Enter a number: 2\n",
            "The factorial of 2 is: 2\n"
          ]
        }
      ]
    },
    {
      "cell_type": "markdown",
      "source": [
        "# THE END .............."
      ],
      "metadata": {
        "id": "ZpjJS_DDSbEH"
      }
    }
  ]
}