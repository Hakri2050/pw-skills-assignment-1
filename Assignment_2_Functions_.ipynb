{
  "nbformat": 4,
  "nbformat_minor": 0,
  "metadata": {
    "colab": {
      "provenance": []
    },
    "kernelspec": {
      "name": "python3",
      "display_name": "Python 3"
    },
    "language_info": {
      "name": "python"
    }
  },
  "cells": [
    {
      "cell_type": "markdown",
      "source": [
        "# 1. What is diffrence between a functions and methods in Python."
      ],
      "metadata": {
        "id": "ua-7F7Zstzwa"
      }
    },
    {
      "cell_type": "markdown",
      "source": [
        "- A function is a block of code that is defined using the def keyword and can be called independently. It is not associated with any particular object or class.\n",
        "- A method is similar to a function, but it is associated with an object (instance of a class) or class itself.\n",
        "Methods are defined inside a class and are called on an instance of that class (or the class itself for class methods)."
      ],
      "metadata": {
        "id": "c3rXKFFvt8nB"
      }
    },
    {
      "cell_type": "markdown",
      "source": [
        "# 2. Explain the concept of function arguments and parameters in Python."
      ],
      "metadata": {
        "id": "9FTSk62J0TcX"
      }
    },
    {
      "cell_type": "markdown",
      "source": [
        "Parameters are the variables that are defined in the function signature. They act as placeholders for the values (arguments) that will be passed to the function when it is called. These are essentially the names of the inputs to the function.\n",
        "\n",
        "Arguments are the actual values that you pass into the function when you call it. These values correspond to the parameters defined in the function."
      ],
      "metadata": {
        "id": "65TmGqms12JP"
      }
    },
    {
      "cell_type": "markdown",
      "source": [
        "# 3. What are the different ways to define and call a function in Python?"
      ],
      "metadata": {
        "id": "pjWRoyAJ2T1x"
      }
    },
    {
      "cell_type": "code",
      "source": [
        "# Using def key\n",
        "def greet():\n",
        "    print(\"Hello!\")\n",
        "\n",
        "greet()"
      ],
      "metadata": {
        "colab": {
          "base_uri": "https://localhost:8080/"
        },
        "id": "JX9RTjRW5ONG",
        "outputId": "4b177226-8c45-4ca5-ce4a-796c1306efca"
      },
      "execution_count": null,
      "outputs": [
        {
          "output_type": "stream",
          "name": "stdout",
          "text": [
            "Hello!\n"
          ]
        }
      ]
    },
    {
      "cell_type": "code",
      "source": [
        "# Functions with Arguemnet\n",
        "def greet(name):\n",
        "    print(f\"Hello, {name}!\")\n",
        "\n",
        "greet(\"Alice\")"
      ],
      "metadata": {
        "colab": {
          "base_uri": "https://localhost:8080/"
        },
        "id": "OiszYFdo54ev",
        "outputId": "1fdd49d3-105a-4a60-8918-868586f695e4"
      },
      "execution_count": null,
      "outputs": [
        {
          "output_type": "stream",
          "name": "stdout",
          "text": [
            "Hello, Alice!\n"
          ]
        }
      ]
    },
    {
      "cell_type": "code",
      "source": [
        "# Lambda quick functions\n",
        "add = lambda x, y: x + y\n",
        "print(add(2, 3))"
      ],
      "metadata": {
        "colab": {
          "base_uri": "https://localhost:8080/"
        },
        "id": "PmGGZKve6KMj",
        "outputId": "92e3080e-74e7-4277-a03b-e7fd551efb85"
      },
      "execution_count": null,
      "outputs": [
        {
          "output_type": "stream",
          "name": "stdout",
          "text": [
            "5\n"
          ]
        }
      ]
    },
    {
      "cell_type": "markdown",
      "source": [
        "# 4. What is the purpose of the `return` statement in a Python function?"
      ],
      "metadata": {
        "id": "E7YX9zqC2Tq2"
      }
    },
    {
      "cell_type": "markdown",
      "source": [
        "- For returing a value\n",
        "- For returning a multiple values\n",
        "- Returning a function\n"
      ],
      "metadata": {
        "id": "qk6H8C4I9m7W"
      }
    },
    {
      "cell_type": "code",
      "source": [
        "def square(x):\n",
        "    return x * x\n",
        "\n",
        "print(square(5))  # 25"
      ],
      "metadata": {
        "colab": {
          "base_uri": "https://localhost:8080/"
        },
        "id": "zJmit3PD7vF5",
        "outputId": "447895b5-48d3-4e5b-e4ec-fd7275f0f750"
      },
      "execution_count": null,
      "outputs": [
        {
          "output_type": "stream",
          "name": "stdout",
          "text": [
            "25\n"
          ]
        }
      ]
    },
    {
      "cell_type": "markdown",
      "source": [
        "# 5. What are iterators in Python and how do they differ from iterables?"
      ],
      "metadata": {
        "id": "LNnLGejb2Tch"
      }
    },
    {
      "cell_type": "markdown",
      "source": [
        "Iterable: An iterable is any Python object that can return an iterator using the built-in iter() function. It is an object that contains a collection of elements and can be looped over.Something you can loop over (like a list).\n",
        "\n",
        "Iterator: An iterator is an object that remembers its state during iteration and returns the next element when next() is called. It must implement two special methods:\n",
        "\n",
        "- __iter__() – Returns the iterator object itself.\n",
        "\n",
        "- __next__() – Returns the next value from the iterator and raises StopIteration when exhaus"
      ],
      "metadata": {
        "id": "jkOMqW8n9PFr"
      }
    },
    {
      "cell_type": "code",
      "source": [
        "# Example of Iterable\n",
        "my_list = [1, 2, 3]\n",
        "it = iter(my_list)  # Iterator\n",
        "print(next(it))  # 1\n",
        "print(next(it))  # 2"
      ],
      "metadata": {
        "colab": {
          "base_uri": "https://localhost:8080/"
        },
        "id": "ElMad0bU9JJl",
        "outputId": "fc21f34a-9f43-4e23-99e7-3918f41e54f0"
      },
      "execution_count": null,
      "outputs": [
        {
          "output_type": "stream",
          "name": "stdout",
          "text": [
            "1\n",
            "2\n"
          ]
        }
      ]
    },
    {
      "cell_type": "code",
      "source": [
        "# Example of Iterators\n",
        "numbers = [1, 2, 3]  # List (Iterable)\n",
        "iterator = iter(numbers)  # Convert iterable to iterator\n",
        "\n",
        "print(next(iterator))  # Output: 1\n",
        "print(next(iterator))  # Output: 2\n",
        "print(next(iterator))  # Output: 3\n",
        "# print(next(iterator))  # Raises StopIteration"
      ],
      "metadata": {
        "colab": {
          "base_uri": "https://localhost:8080/"
        },
        "id": "MJa0lp0u-fkO",
        "outputId": "cc66e2ac-aaf7-4a23-b180-7a2ce9fa4406"
      },
      "execution_count": null,
      "outputs": [
        {
          "output_type": "stream",
          "name": "stdout",
          "text": [
            "1\n",
            "2\n",
            "3\n"
          ]
        }
      ]
    },
    {
      "cell_type": "markdown",
      "source": [
        "# 6. Explain the concept of generators in Python and how they are defined."
      ],
      "metadata": {
        "id": "fNROq-do_xSZ"
      }
    },
    {
      "cell_type": "markdown",
      "source": [
        "GENERATORS IN PYTHON\n",
        "\n",
        "A generator in Python is a special type of iterable that allows you to iterate over data lazily (on demand), making it more memory-efficient than regular lists. Unlike regular functions that return a value using return, generators use yield to return values one at a time, pausing execution in between."
      ],
      "metadata": {
        "id": "5s-oDgglAUKD"
      }
    },
    {
      "cell_type": "code",
      "source": [
        "# Example of Generator\n",
        "def count_up_to(n):\n",
        "    count = 1\n",
        "    while count <= n:\n",
        "        yield count  # Yield pauses the function and returns a value\n",
        "        count += 1  # Resumes execution from here when next() is called"
      ],
      "metadata": {
        "id": "WD-d0UX1AWJJ"
      },
      "execution_count": null,
      "outputs": []
    },
    {
      "cell_type": "markdown",
      "source": [
        "# 7. What are the advantages of using generators over regular functions?"
      ],
      "metadata": {
        "id": "rRxUVYQ-A7K5"
      }
    },
    {
      "cell_type": "markdown",
      "source": [
        "Advantages of Using Generators Over Regular Functions in Python-\n",
        "\n",
        "Generators offer several advantages compared to regular functions, especially when working with large datasets or infinite sequences. Here’s why generators are beneficial:\n",
        "\n",
        "\n",
        "\n"
      ],
      "metadata": {
        "id": "pwtKtymyA_fe"
      }
    },
    {
      "cell_type": "markdown",
      "source": [
        "# 8. What is a lambda function in Python and when is it typically used?"
      ],
      "metadata": {
        "id": "H-RAV-ZGB98y"
      }
    },
    {
      "cell_type": "markdown",
      "source": [
        "A lambda function in Python is a small anonymous function that can have multiple arguments but only one expression. It is created using the lambda keyword instead of def.\n",
        "\n"
      ],
      "metadata": {
        "id": "dtj9HnfLCM6B"
      }
    },
    {
      "cell_type": "code",
      "source": [
        "# Using Lambda\n",
        "add = lambda x, y: x + y\n",
        "print(add(2, 3))  # 5"
      ],
      "metadata": {
        "colab": {
          "base_uri": "https://localhost:8080/"
        },
        "id": "t3263OhUCgV_",
        "outputId": "cc5b5c4e-88fb-4bb8-aa28-e64b0cba3cc7"
      },
      "execution_count": null,
      "outputs": [
        {
          "output_type": "stream",
          "name": "stdout",
          "text": [
            "5\n"
          ]
        }
      ]
    },
    {
      "cell_type": "markdown",
      "source": [
        "# 9. Explain the purpose and usage of the `map()` function in Python."
      ],
      "metadata": {
        "id": "u9Us-gWJC3yT"
      }
    },
    {
      "cell_type": "markdown",
      "source": [
        "The map() function is used to apply a given function to each item in an iterable (e.g., list, tuple, etc.) and return an iterator with the results. This helps in performing operations efficiently without using explicit loops."
      ],
      "metadata": {
        "id": "W6efGuFzDHdX"
      }
    },
    {
      "cell_type": "code",
      "source": [
        "# Using Map\n",
        "numbers = [1, 2, 3]\n",
        "squared = list(map(lambda x: x ** 2, numbers))\n",
        "print(squared)  # [1, 4, 9]"
      ],
      "metadata": {
        "colab": {
          "base_uri": "https://localhost:8080/"
        },
        "id": "84OsL3FiDJcW",
        "outputId": "06918dd2-f8fb-4675-a5ce-19071d5538ef"
      },
      "execution_count": null,
      "outputs": [
        {
          "output_type": "stream",
          "name": "stdout",
          "text": [
            "[1, 4, 9]\n"
          ]
        }
      ]
    },
    {
      "cell_type": "markdown",
      "source": [
        "# 10. What is the difference between `map()`, `reduce()`, and `filter()` functions in Python?"
      ],
      "metadata": {
        "id": "QuBEar0KDWV5"
      }
    },
    {
      "cell_type": "markdown",
      "source": [
        "Difference Between map(), reduce(), and filter() in Python.\n",
        "- map() : Apply a function to each element\n",
        "          *Transforms elements in an iterable.\n",
        "          *Returns an iterator with modified values.\n",
        "\n",
        "- filter(): Select Elements Based on a Condition.\n",
        "            *Filters out elements that don’t satisfy a condition.\n",
        "            *Returns an iterator with only the elements where the function returns True.\n",
        "\n",
        "- reduce(): Reduce an Iterable to a Single Value.\n",
        "            *Performs cumulative computation on an iterable.\n",
        "            *Returns a single result."
      ],
      "metadata": {
        "id": "i54_FcTuDeSt"
      }
    },
    {
      "cell_type": "markdown",
      "source": [
        "# * PRACTICAL QUESTION AND ANSWER"
      ],
      "metadata": {
        "id": "cIDeB6KcFWvu"
      }
    },
    {
      "cell_type": "markdown",
      "source": [
        "# 1. Write a Python function that takes a list of numbers as input and returns the sum of all even numbers in the list"
      ],
      "metadata": {
        "id": "TnhaAiLGGLR9"
      }
    },
    {
      "cell_type": "code",
      "source": [
        "# Sum of all even numbers in the list\n",
        "def sum_of_evens(numbers):\n",
        "    return sum(filter(lambda x: x % 2 == 0, numbers))\n",
        "\n",
        "# Example usage:\n",
        "print(sum_of_evens(numbers))  # Output: 30"
      ],
      "metadata": {
        "colab": {
          "base_uri": "https://localhost:8080/"
        },
        "id": "ldiEhUbtGtoE",
        "outputId": "6e0790a4-3082-4a9b-ea64-8027756f188b"
      },
      "execution_count": null,
      "outputs": [
        {
          "output_type": "stream",
          "name": "stdout",
          "text": [
            "2\n"
          ]
        }
      ]
    },
    {
      "cell_type": "markdown",
      "source": [
        "# 2. Create a Python function that accepts a string and returns the reverse of that string."
      ],
      "metadata": {
        "id": "615J2R1eHQdt"
      }
    },
    {
      "cell_type": "code",
      "source": [
        "# Reversing a string\n",
        "def reverse_string(s):\n",
        "    return s[::-1]\n",
        "\n",
        "# Example\n",
        "print(reverse_string(\"hello\"))  # Output: \"olleh\""
      ],
      "metadata": {
        "colab": {
          "base_uri": "https://localhost:8080/"
        },
        "id": "2CT8yrDrHsan",
        "outputId": "87afb78b-491c-486e-8c67-8fd11b40c8b8"
      },
      "execution_count": null,
      "outputs": [
        {
          "output_type": "stream",
          "name": "stdout",
          "text": [
            "olleh\n"
          ]
        }
      ]
    },
    {
      "cell_type": "markdown",
      "source": [
        "# 3. Implement a Python function that takes a list of integers and returns a new list containing the squares of each number"
      ],
      "metadata": {
        "id": "mHyu5I97JEth"
      }
    },
    {
      "cell_type": "code",
      "source": [
        "# Squares of each number in list\n",
        "def square_numbers(numbers):\n",
        "    return [x ** 2 for x in numbers]\n",
        "\n",
        "# Example\n",
        "print(square_numbers([1, 2, 3, 4, 5]))"
      ],
      "metadata": {
        "colab": {
          "base_uri": "https://localhost:8080/"
        },
        "id": "olDVfinEOuoq",
        "outputId": "dcf813ff-5a37-497d-b0b1-748eea131ded"
      },
      "execution_count": null,
      "outputs": [
        {
          "output_type": "stream",
          "name": "stdout",
          "text": [
            "[1, 4, 9, 16, 25]\n"
          ]
        }
      ]
    },
    {
      "cell_type": "markdown",
      "source": [
        "# 4. Write a Python function that checks if a given number is prime or not from 1 to 200."
      ],
      "metadata": {
        "id": "OQLb830jPcJ1"
      }
    },
    {
      "cell_type": "code",
      "source": [
        "# Checking if a Number is Prime (1 to 200)\n",
        "def is_prime(n):\n",
        "    if n < 2:\n",
        "        return False\n",
        "    for i in range(2, int(n**0.5) + 1):\n",
        "        if n % i == 0:\n",
        "            return False\n",
        "    return True\n",
        "\n",
        "# Example\n",
        "print(is_prime(29))  # Output: True\n",
        "print(is_prime(100)) # Output: False"
      ],
      "metadata": {
        "colab": {
          "base_uri": "https://localhost:8080/"
        },
        "id": "BX7TfWroPgZA",
        "outputId": "dc221d8f-4a1b-4aec-d757-dd4441ea4f12"
      },
      "execution_count": null,
      "outputs": [
        {
          "output_type": "stream",
          "name": "stdout",
          "text": [
            "True\n",
            "False\n"
          ]
        }
      ]
    },
    {
      "cell_type": "markdown",
      "source": [
        "# 5. Create an iterator class in Python that generates the Fibonacci sequence up to a specified number of terms."
      ],
      "metadata": {
        "id": "tK87AtCRQKws"
      }
    },
    {
      "cell_type": "code",
      "source": [
        "# Fibonacci Sequence Iterator\n",
        "class Fibonacci:\n",
        "    def __init__(self, n):\n",
        "        self.n = n\n",
        "        self.a, self.b = 0, 1\n",
        "        self.count = 0\n",
        "\n",
        "    def __iter__(self):\n",
        "        return self\n",
        "\n",
        "    def __next__(self):\n",
        "        if self.count >= self.n:\n",
        "            raise StopIteration\n",
        "        self.count += 1\n",
        "        self.a, self.b = self.b, self.a + self.b\n",
        "        return self.a\n",
        "\n",
        "# Example\n",
        "fib = Fibonacci(5)\n",
        "for num in fib:\n",
        "    print(num)"
      ],
      "metadata": {
        "colab": {
          "base_uri": "https://localhost:8080/"
        },
        "id": "wR6-UL5lQXV1",
        "outputId": "4dab0307-272e-4663-dfde-e7a929064861"
      },
      "execution_count": null,
      "outputs": [
        {
          "output_type": "stream",
          "name": "stdout",
          "text": [
            "1\n",
            "1\n",
            "2\n",
            "3\n",
            "5\n"
          ]
        }
      ]
    },
    {
      "cell_type": "markdown",
      "source": [
        "# 6. Write a generator function in Python that yields the powers of 2 up to a given exponent."
      ],
      "metadata": {
        "id": "cGPHBnA_Qe0s"
      }
    },
    {
      "cell_type": "code",
      "source": [
        "# Generator for Powers of 2 python Copy\n",
        "def powers_of_two(exponent):\n",
        "    for i in range(exponent + 1):\n",
        "        yield 2 ** i\n",
        "\n",
        "# Example\n",
        "for power in powers_of_two(5):\n",
        "    print(power)"
      ],
      "metadata": {
        "colab": {
          "base_uri": "https://localhost:8080/"
        },
        "id": "5BegjHw_Q2DD",
        "outputId": "9c04f608-0f01-4424-8087-19595e648a70"
      },
      "execution_count": null,
      "outputs": [
        {
          "output_type": "stream",
          "name": "stdout",
          "text": [
            "1\n",
            "2\n",
            "4\n",
            "8\n",
            "16\n",
            "32\n"
          ]
        }
      ]
    },
    {
      "cell_type": "markdown",
      "source": [
        "# 7. Implement a generator function that reads a file line by line and yields each line as a string."
      ],
      "metadata": {
        "id": "WEiM_QZ1RDSo"
      }
    },
    {
      "cell_type": "code",
      "source": [
        "# Generator to Read a File Line by Line\n",
        "def read_file(file_path):\n",
        "    with open(file_path, 'r') as file:\n",
        "        for line in file:\n",
        "            yield line.strip()"
      ],
      "metadata": {
        "id": "kn_0zF_wREnI"
      },
      "execution_count": null,
      "outputs": []
    },
    {
      "cell_type": "markdown",
      "source": [
        "# 8. Use a lambda function in Python to sort a list of tuples based on the second element of each tuple."
      ],
      "metadata": {
        "id": "46Q5_q4GRQUA"
      }
    },
    {
      "cell_type": "code",
      "source": [
        "# Sort a List of Tuples by Second Element Using Lambda\n",
        "data = [(1, 3), (4, 1), (2, 5), (3, 2)]\n",
        "sorted_data = sorted(data, key=lambda x: x[1])\n",
        "print(sorted_data)"
      ],
      "metadata": {
        "colab": {
          "base_uri": "https://localhost:8080/"
        },
        "id": "eqJOYdV7RUK7",
        "outputId": "4b4a53d5-ea79-4fd3-92f2-296258602065"
      },
      "execution_count": null,
      "outputs": [
        {
          "output_type": "stream",
          "name": "stdout",
          "text": [
            "[(4, 1), (3, 2), (1, 3), (2, 5)]\n"
          ]
        }
      ]
    },
    {
      "cell_type": "markdown",
      "source": [
        "# 9. Write a Python program that uses `map()` to convert a list of temperatures from Celsius to Fahrenheit."
      ],
      "metadata": {
        "id": "IQN2MqdpS0_8"
      }
    },
    {
      "cell_type": "code",
      "source": [
        "# Convert Celsius to Fahrenheit Using map()\n",
        "def celsius_to_fahrenheit(celsius):\n",
        "    return (celsius * 9/5) + 32\n",
        "\n",
        "temperatures = [0, 20, 30, 40]\n",
        "fahrenheit = list(map(celsius_to_fahrenheit, temperatures))\n",
        "print(fahrenheit)"
      ],
      "metadata": {
        "colab": {
          "base_uri": "https://localhost:8080/"
        },
        "id": "1lKhyDvjSz42",
        "outputId": "126dd4c3-41ba-42c2-c6c0-b49cb31040d6"
      },
      "execution_count": null,
      "outputs": [
        {
          "output_type": "stream",
          "name": "stdout",
          "text": [
            "[32.0, 68.0, 86.0, 104.0]\n"
          ]
        }
      ]
    },
    {
      "cell_type": "markdown",
      "source": [
        "# 10. Create a Python program that uses `filter()` to remove all the vowels from a given string."
      ],
      "metadata": {
        "id": "B73UXbW4wQY9"
      }
    },
    {
      "cell_type": "code",
      "source": [
        "# Python Program Using filter() to Remove Vowels\n",
        "def remove_vowels(text):\n",
        "    \"\"\"Removes all vowels from the input string using filter().\"\"\"\n",
        "    vowels = 'aeiouAEIOU'\n",
        "    return ''.join(filter(lambda char: char not in vowels, text))\n",
        "\n",
        "# Example usage:\n",
        "input_string = \"Hello, I am learning Python!\"\n",
        "result = remove_vowels(input_string)\n",
        "print(result)  # Output: \"Hll,  m lrnng Pythn!\""
      ],
      "metadata": {
        "id": "oyupRwdhwY85"
      },
      "execution_count": null,
      "outputs": []
    },
    {
      "cell_type": "markdown",
      "source": [
        "# ![WhatsApp Image 2025-04-04 at 13.24.55.jpeg](data:image/jpeg;base64,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)"
      ],
      "metadata": {
        "id": "fhB1frnExdQm"
      }
    },
    {
      "cell_type": "code",
      "source": [
        "# Given list of orders\n",
        "orders = [\n",
        "    (34587, \"Learning Python, Mark Lutz\", 4, 40.95),\n",
        "    (98762, \"Programming Python, Mark Lutz\", 5, 56.80),\n",
        "    (77226, \"Head First Python, Paul Barry\", 3, 32.95),\n",
        "    (88112, \"Einführung in Python3, Bernd Klein\", 3, 24.99)\n",
        "]\n",
        "\n",
        "# Function to calculate total price and apply the 10€ increase condition\n",
        "calculate_total = lambda order: (order[0], order[2] * order[3] if order[2] * order[3] >= 100 else order[2] * order[3] + 10)\n",
        "\n",
        "# Apply the lambda function using map\n",
        "updated_orders = list(map(calculate_total, orders))\n",
        "\n",
        "# Print the result\n",
        "print(updated_orders)"
      ],
      "metadata": {
        "colab": {
          "base_uri": "https://localhost:8080/"
        },
        "id": "4DgiwKqywpE7",
        "outputId": "b03a4c5e-2051-4614-85a6-b02958bf6dcb"
      },
      "execution_count": 1,
      "outputs": [
        {
          "output_type": "stream",
          "name": "stdout",
          "text": [
            "[(34587, 163.8), (98762, 284.0), (77226, 108.85000000000001), (88112, 84.97)]\n"
          ]
        }
      ]
    },
    {
      "cell_type": "markdown",
      "source": [
        "# THANKOU"
      ],
      "metadata": {
        "id": "GOzeaDivznfz"
      }
    }
  ]
}